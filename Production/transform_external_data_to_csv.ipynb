{
 "cells": [
  {
   "cell_type": "markdown",
   "metadata": {},
   "source": [
    "## In this notebook, we transform the external data into a machine-readable format"
   ]
  },
  {
   "cell_type": "markdown",
   "metadata": {},
   "source": [
    "Set-Up"
   ]
  },
  {
   "cell_type": "code",
   "execution_count": 1,
   "metadata": {},
   "outputs": [],
   "source": [
    "import os\n",
    "import pandas as pd\n",
    "parent_dir = os.path.dirname(os.getcwd())\n",
    "# Specify the file path\n",
    "file_path = parent_dir + '/external_data/agriSpot.xlsx'"
   ]
  },
  {
   "cell_type": "markdown",
   "metadata": {},
   "source": [
    "AgriSpot"
   ]
  },
  {
   "cell_type": "code",
   "execution_count": 2,
   "metadata": {},
   "outputs": [
    {
     "data": {
      "text/html": [
       "<div>\n",
       "<style scoped>\n",
       "    .dataframe tbody tr th:only-of-type {\n",
       "        vertical-align: middle;\n",
       "    }\n",
       "\n",
       "    .dataframe tbody tr th {\n",
       "        vertical-align: top;\n",
       "    }\n",
       "\n",
       "    .dataframe thead th {\n",
       "        text-align: right;\n",
       "    }\n",
       "</style>\n",
       "<table border=\"1\" class=\"dataframe\">\n",
       "  <thead>\n",
       "    <tr style=\"text-align: right;\">\n",
       "      <th></th>\n",
       "      <th>Date</th>\n",
       "      <th>Agri Spot (U$)</th>\n",
       "    </tr>\n",
       "  </thead>\n",
       "  <tbody>\n",
       "    <tr>\n",
       "      <th>0</th>\n",
       "      <td>2014-01-01 00:00:00</td>\n",
       "      <td>200.399</td>\n",
       "    </tr>\n",
       "    <tr>\n",
       "      <th>1</th>\n",
       "      <td>2014-02-01 00:00:00</td>\n",
       "      <td>201.583</td>\n",
       "    </tr>\n",
       "    <tr>\n",
       "      <th>2</th>\n",
       "      <td>2014-03-01 00:00:00</td>\n",
       "      <td>221.079</td>\n",
       "    </tr>\n",
       "    <tr>\n",
       "      <th>3</th>\n",
       "      <td>2014-04-01 00:00:00</td>\n",
       "      <td>233.772</td>\n",
       "    </tr>\n",
       "    <tr>\n",
       "      <th>4</th>\n",
       "      <td>2014-05-01 00:00:00</td>\n",
       "      <td>236.51</td>\n",
       "    </tr>\n",
       "    <tr>\n",
       "      <th>...</th>\n",
       "      <td>...</td>\n",
       "      <td>...</td>\n",
       "    </tr>\n",
       "    <tr>\n",
       "      <th>120</th>\n",
       "      <td>2024-01-01 00:00:00</td>\n",
       "      <td>228.351</td>\n",
       "    </tr>\n",
       "    <tr>\n",
       "      <th>121</th>\n",
       "      <td>2024-02-01 00:00:00</td>\n",
       "      <td>226.819</td>\n",
       "    </tr>\n",
       "    <tr>\n",
       "      <th>122</th>\n",
       "      <td>2024-03-01 00:00:00</td>\n",
       "      <td>215.162</td>\n",
       "    </tr>\n",
       "    <tr>\n",
       "      <th>123</th>\n",
       "      <td>2024-04-01 00:00:00</td>\n",
       "      <td>221.763</td>\n",
       "    </tr>\n",
       "    <tr>\n",
       "      <th>124</th>\n",
       "      <td>2024-05-01 00:00:00</td>\n",
       "      <td>222.596</td>\n",
       "    </tr>\n",
       "  </tbody>\n",
       "</table>\n",
       "<p>125 rows × 2 columns</p>\n",
       "</div>"
      ],
      "text/plain": [
       "                    Date Agri Spot (U$)\n",
       "0    2014-01-01 00:00:00        200.399\n",
       "1    2014-02-01 00:00:00        201.583\n",
       "2    2014-03-01 00:00:00        221.079\n",
       "3    2014-04-01 00:00:00        233.772\n",
       "4    2014-05-01 00:00:00         236.51\n",
       "..                   ...            ...\n",
       "120  2024-01-01 00:00:00        228.351\n",
       "121  2024-02-01 00:00:00        226.819\n",
       "122  2024-03-01 00:00:00        215.162\n",
       "123  2024-04-01 00:00:00        221.763\n",
       "124  2024-05-01 00:00:00        222.596\n",
       "\n",
       "[125 rows x 2 columns]"
      ]
     },
     "execution_count": 2,
     "metadata": {},
     "output_type": "execute_result"
    }
   ],
   "source": [
    "# Read the Excel file into a pandas dataframe\n",
    "df_agri = pd.read_excel(file_path)\n",
    "df_agri = df_agri.drop(df_agri.columns[0], axis=1)\n",
    "df_agri = df_agri.drop(df_agri.index[:6])\n",
    "df_agri = df_agri.rename(columns={'Unnamed: 1': 'Date', 'Unnamed: 2': 'Agri Spot (U$)'})\n",
    "df_agri.reset_index(drop=True, inplace=True)\n",
    "df_agri.to_csv(parent_dir + '/External_data_csv/df_agri.csv', index=False)\n",
    "df_agri"
   ]
  },
  {
   "cell_type": "markdown",
   "metadata": {},
   "source": [
    "CBI"
   ]
  },
  {
   "cell_type": "code",
   "execution_count": 53,
   "metadata": {},
   "outputs": [],
   "source": [
    "# Read the CBI.xlsx file into a pandas dataframe\n",
    "df_cbi = pd.read_excel(parent_dir + '/External_data/CBI.xlsx')\n",
    "df_cbi = df_cbi.drop(df_cbi.columns[0], axis=1)\n",
    "df_cbi = df_cbi.drop(df_cbi.index[:6])\n",
    "df_cbi = df_cbi.rename(columns={'Unnamed: 1': 'Date', 'Unnamed: 2': 'CBI (U$/BBL)'})\n",
    "df_cbi.reset_index(drop=True, inplace=True)\n",
    "df_cbi.to_csv(parent_dir + '/External_data_csv/df_cbi.csv', index=False)\n",
    "#df_cbi"
   ]
  },
  {
   "cell_type": "markdown",
   "metadata": {},
   "source": [
    "CBIPS"
   ]
  },
  {
   "cell_type": "code",
   "execution_count": 54,
   "metadata": {},
   "outputs": [],
   "source": [
    "# Read the CBIPS.xlsx file into a pandas dataframe\n",
    "df_cbips = pd.read_excel(parent_dir + '/External_data/CBIPS.xlsx')\n",
    "df_cbips = df_cbips.drop(df_cbips.columns[0], axis=1)\n",
    "df_cbips = df_cbips.drop(df_cbips.index[:6])\n",
    "df_cbips = df_cbips.rename(columns={'Unnamed: 1': 'Date', 'Unnamed: 2': 'CBIPS (U$/BBL)'})\n",
    "df_cbips.reset_index(drop=True, inplace=True)\n",
    "df_cbips.to_csv(parent_dir + '/External_data_csv/df_cbips.csv', index=False)\n",
    "#df_cbips"
   ]
  },
  {
   "cell_type": "markdown",
   "metadata": {},
   "source": [
    "CBIPSFE"
   ]
  },
  {
   "cell_type": "code",
   "execution_count": 55,
   "metadata": {},
   "outputs": [],
   "source": [
    "# Read the CBIPSFE.xlsx file into a pandas dataframe\n",
    "df_cbipsfe = pd.read_excel(parent_dir + '/External_data/CBIPSFE.xlsx')\n",
    "df_cbipsfe = df_cbipsfe.drop(df_cbipsfe.columns[0], axis=1)\n",
    "df_cbipsfe = df_cbipsfe.drop(df_cbipsfe.index[:6])\n",
    "df_cbipsfe = df_cbipsfe.rename(columns={'Unnamed: 1': 'Date', 'Unnamed: 2': 'CBIPSFE (U$/BBL)'})\n",
    "df_cbipsfe.reset_index(drop=True, inplace=True)\n",
    "df_cbipsfe.to_csv(parent_dir + '/External_data_csv/df_cbipsfe.csv', index=False)\n",
    "#df_cbipsfe"
   ]
  },
  {
   "cell_type": "markdown",
   "metadata": {},
   "source": [
    "CornSpot"
   ]
  },
  {
   "cell_type": "code",
   "execution_count": 56,
   "metadata": {},
   "outputs": [],
   "source": [
    "# Import the CornSpot.xlsx file as a pandas dataframe\n",
    "df_corn = pd.read_excel(parent_dir + '/External_data/CornSpot.xlsx')\n",
    "df_corn = df_corn.drop(df_corn.columns[0], axis=1)\n",
    "df_corn = df_corn.drop(df_corn.index[:6])\n",
    "df_corn = df_corn.rename(columns={'Unnamed: 1': 'Date', 'Unnamed: 2': 'Corn Price (U$)'})\n",
    "df_corn.to_csv(parent_dir + '/External_data_csv/df_corn.csv', index=False)\n",
    "#df_corn"
   ]
  },
  {
   "cell_type": "markdown",
   "metadata": {},
   "source": [
    "GER10Y"
   ]
  },
  {
   "cell_type": "code",
   "execution_count": 20,
   "metadata": {},
   "outputs": [],
   "source": [
    "# Import the GER10Y.xlsx file as a pandas dataframe\n",
    "df_ger10y = pd.read_excel(parent_dir + '/External_data/GER10Y.xlsx')\n",
    "df_ger10y = df_ger10y.drop(df_ger10y.columns[0], axis=1)\n",
    "df_ger10y = df_ger10y.drop(df_ger10y.index[:6])\n",
    "df_ger10y = df_ger10y.rename(columns={'Unnamed: 1': 'Date', 'Unnamed: 2': 'Interest Rate'})\n",
    "df_ger10y.reset_index(drop=True, inplace=True)\n",
    "df_ger10y.to_csv(parent_dir + '/External_data_csv/df_ger10y.csv', index=False)\n",
    "#df_ger10y"
   ]
  },
  {
   "cell_type": "markdown",
   "metadata": {},
   "source": [
    "SoySpot"
   ]
  },
  {
   "cell_type": "code",
   "execution_count": 57,
   "metadata": {},
   "outputs": [],
   "source": [
    "# Import the SoySpot.xlsx file as a pandas dataframe\n",
    "df_soy = pd.read_excel(parent_dir + '/External_data/SoySpot.xlsx')\n",
    "df_soy = df_soy.drop(df_soy.columns[0], axis=1)\n",
    "df_soy = df_soy.drop(df_soy.index[:6])\n",
    "df_soy = df_soy.rename(columns={'Unnamed: 1': 'Date', 'Unnamed: 2': 'Soy Price ($)'})\n",
    "df_soy.reset_index(drop=True, inplace=True)\n",
    "df_soy.to_csv(parent_dir + '/External_data_csv/df_soy.csv', index=False)\n",
    "#df_soy"
   ]
  },
  {
   "cell_type": "markdown",
   "metadata": {},
   "source": [
    "USTR10Y"
   ]
  },
  {
   "cell_type": "code",
   "execution_count": 58,
   "metadata": {},
   "outputs": [],
   "source": [
    "# Import the USTR10Y.xlsx file as a pandas dataframe\n",
    "df_ustr10y = pd.read_excel(parent_dir + '/External_data/USTR10Y.xlsx')\n",
    "df_ustr10y = df_ustr10y.drop(df_ustr10y.columns[0], axis=1)\n",
    "df_ustr10y = df_ustr10y.drop(df_ustr10y.index[:6])\n",
    "df_ustr10y = df_ustr10y.rename(columns={'Unnamed: 1': 'Date', 'Unnamed: 2': 'Interest Rate'})\n",
    "df_ustr10y.reset_index(drop=True, inplace=True)\n",
    "df_ustr10y.to_csv(parent_dir + '/External_data_csv/df_ustr10y.csv', index=False)\n",
    "#df_ustr10y"
   ]
  },
  {
   "cell_type": "markdown",
   "metadata": {},
   "source": [
    "WeizenSpot"
   ]
  },
  {
   "cell_type": "code",
   "execution_count": 59,
   "metadata": {},
   "outputs": [],
   "source": [
    "# Import the WeizenSpot.xlsx file as a pandas dataframe\n",
    "df_wheat = pd.read_excel(parent_dir + '/External_data/WeizenSpot.xlsx')\n",
    "df_wheat = df_wheat.drop(df_wheat.columns[:6], axis=1)\n",
    "df_wheat = df_wheat.drop(df_wheat.index[:6])\n",
    "df_wheat = df_wheat.rename(columns={'Unnamed: 6': 'Date', 'Unnamed: 7': 'Wheat Price ($)'})\n",
    "df_wheat.reset_index(drop=True, inplace=True)\n",
    "df_wheat.to_csv(parent_dir + '/External_data_csv/df_wheat.csv', index=False)\n",
    "#df_wheat"
   ]
  },
  {
   "cell_type": "markdown",
   "metadata": {},
   "source": [
    "WtiOilSpot"
   ]
  },
  {
   "cell_type": "code",
   "execution_count": 60,
   "metadata": {},
   "outputs": [],
   "source": [
    "# Import the WtiOilSpot.xlsx file as a pandas dataframe\n",
    "df_oil = pd.read_excel(parent_dir + '/External_data/WtiOilSpot.xlsx')\n",
    "df_oil = df_oil.drop(df_oil.columns[0], axis=1)\n",
    "df_oil = df_oil.drop(df_oil.index[:6])\n",
    "df_oil = df_oil.rename(columns={'Unnamed: 1': 'Date', 'Unnamed: 2': 'Oil Price (U$/BBL)'})\n",
    "df_oil.reset_index(drop=True, inplace=True)\n",
    "df_oil.to_csv(parent_dir + '/External_data_csv/df_oil.csv', index=False)\n",
    "#df_oil"
   ]
  },
  {
   "cell_type": "markdown",
   "metadata": {},
   "source": [
    "WeatherData"
   ]
  },
  {
   "cell_type": "code",
   "execution_count": 23,
   "metadata": {},
   "outputs": [],
   "source": [
    "# Import the External Weather Data .txt files as a pandas dataframe\n",
    "\n",
    "#Create list for each of the 12 .txt files\n",
    "df_list_rain = []\n",
    "df_list_temp = []\n",
    "\n",
    "#Read .txt as csv into df\n",
    "for i in range(1,13):\n",
    "    filename_rain = f\"ra_rr_{i:02d}.txt\"\n",
    "    filename_temp = f\"ra_tm_{i:02d}.txt\"\n",
    "    df_list_rain.append(pd.read_csv(parent_dir + '/External_data_txt/' + filename_rain, header=1, sep=';'))\n",
    "    df_list_temp.append(pd.read_csv(parent_dir + '/External_data_txt/' + filename_temp, header=1, sep=';'))\n",
    "\n",
    "#Concatenate all of these df into single df, to capture all months\n",
    "df_rain = pd.concat(df_list_rain, ignore_index=True)\n",
    "df_temp = pd.concat(df_list_temp, ignore_index=True)\n",
    "\n",
    "#Drop unnecessary columns\n",
    "df_rain = df_rain.drop(df_rain.columns[[2,3,4,5,6,7,8,9,10,11,12,13,14,15,16,17,19]], axis=1)\n",
    "df_temp = df_temp.drop(df_temp.columns[[2,3,4,5,6,7,8,9,10,11,12,13,14,15,16,17,19]], axis=1)\n",
    "\n",
    "#Write dfs as csvs to external data directory\n",
    "df_rain.to_csv(parent_dir + '/External_data_csv/df_rain.csv', index=False)\n",
    "df_temp.to_csv(parent_dir + '/External_data_csv/df_temp.csv', index=False)  \n",
    "\n",
    "#df_temp.head()"
   ]
  }
 ],
 "metadata": {
  "kernelspec": {
   "display_name": "Python 3",
   "language": "python",
   "name": "python3"
  },
  "language_info": {
   "codemirror_mode": {
    "name": "ipython",
    "version": 3
   },
   "file_extension": ".py",
   "mimetype": "text/x-python",
   "name": "python",
   "nbconvert_exporter": "python",
   "pygments_lexer": "ipython3",
   "version": "3.11.0"
  }
 },
 "nbformat": 4,
 "nbformat_minor": 2
}
