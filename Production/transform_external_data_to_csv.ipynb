{
 "cells": [
  {
   "cell_type": "code",
   "execution_count": 1,
   "metadata": {},
   "outputs": [],
   "source": [
    "import os\n",
    "parent_dir = os.path.dirname(os.getcwd())"
   ]
  },
  {
   "cell_type": "code",
   "execution_count": 12,
   "metadata": {},
   "outputs": [
    {
     "data": {
      "text/html": [
       "<div>\n",
       "<style scoped>\n",
       "    .dataframe tbody tr th:only-of-type {\n",
       "        vertical-align: middle;\n",
       "    }\n",
       "\n",
       "    .dataframe tbody tr th {\n",
       "        vertical-align: top;\n",
       "    }\n",
       "\n",
       "    .dataframe thead th {\n",
       "        text-align: right;\n",
       "    }\n",
       "</style>\n",
       "<table border=\"1\" class=\"dataframe\">\n",
       "  <thead>\n",
       "    <tr style=\"text-align: right;\">\n",
       "      <th></th>\n",
       "      <th>date</th>\n",
       "      <th>agri_spot</th>\n",
       "    </tr>\n",
       "  </thead>\n",
       "  <tbody>\n",
       "    <tr>\n",
       "      <th>0</th>\n",
       "      <td>2014-01-01 00:00:00</td>\n",
       "      <td>200.399</td>\n",
       "    </tr>\n",
       "    <tr>\n",
       "      <th>1</th>\n",
       "      <td>2014-02-01 00:00:00</td>\n",
       "      <td>201.583</td>\n",
       "    </tr>\n",
       "    <tr>\n",
       "      <th>2</th>\n",
       "      <td>2014-03-01 00:00:00</td>\n",
       "      <td>221.079</td>\n",
       "    </tr>\n",
       "    <tr>\n",
       "      <th>3</th>\n",
       "      <td>2014-04-01 00:00:00</td>\n",
       "      <td>233.772</td>\n",
       "    </tr>\n",
       "    <tr>\n",
       "      <th>4</th>\n",
       "      <td>2014-05-01 00:00:00</td>\n",
       "      <td>236.51</td>\n",
       "    </tr>\n",
       "  </tbody>\n",
       "</table>\n",
       "</div>"
      ],
      "text/plain": [
       "                  date agri_spot\n",
       "0  2014-01-01 00:00:00   200.399\n",
       "1  2014-02-01 00:00:00   201.583\n",
       "2  2014-03-01 00:00:00   221.079\n",
       "3  2014-04-01 00:00:00   233.772\n",
       "4  2014-05-01 00:00:00    236.51"
      ]
     },
     "execution_count": 12,
     "metadata": {},
     "output_type": "execute_result"
    }
   ],
   "source": [
    "import pandas as pd\n",
    "\n",
    "# Specify the file path\n",
    "file_path = parent_dir + '/external_data/agriSpot.xlsx'\n",
    "\n",
    "# Read the Excel file into a pandas dataframe\n",
    "df_agri = pd.read_excel(file_path)\n",
    "df_agri = df_agri.drop(df_agri.columns[0], axis=1)\n",
    "df_agri = df_agri.drop(df_agri.index[:6])\n",
    "df_agri = df_agri.rename(columns={'Unnamed: 1': 'date', 'Unnamed: 2': 'agri_spot'})\n",
    "df_agri.reset_index(drop=True, inplace=True)\n",
    "\n",
    "#df_agri.to_csv(parent_dir + '/External_data_csv/df_agri.csv', index=False)"
   ]
  },
  {
   "cell_type": "markdown",
   "metadata": {},
   "source": [
    "Made changes."
   ]
  },
  {
   "cell_type": "code",
   "execution_count": 9,
   "metadata": {},
   "outputs": [],
   "source": [
    "# Import the WeizenSpot.xlsx file as a pandas dataframe\n",
    "df_wheat = pd.read_excel(parent_dir + '/External_data/WeizenSpot.xlsx')\n",
    "df_wheat\n",
    "df_wheat = df_wheat.drop(df_wheat.columns[:6], axis=1)\n",
    "df_wheat = df_wheat.drop(df_wheat.index[:6])\n",
    "df_wheat = df_wheat.rename(columns={'Unnamed: 6': 'date', 'Unnamed: 7': 'wheat_price'})"
   ]
  }
 ],
 "metadata": {
  "kernelspec": {
   "display_name": "Python 3",
   "language": "python",
   "name": "python3"
  },
  "language_info": {
   "codemirror_mode": {
    "name": "ipython",
    "version": 3
   },
   "file_extension": ".py",
   "mimetype": "text/x-python",
   "name": "python",
   "nbconvert_exporter": "python",
   "pygments_lexer": "ipython3",
   "version": "3.10.5"
  }
 },
 "nbformat": 4,
 "nbformat_minor": 2
}
