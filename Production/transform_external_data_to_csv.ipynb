{
 "cells": [
  {
   "cell_type": "markdown",
   "metadata": {},
   "source": [
    "## In this notebook, we transform the external data into a machine-readable format"
   ]
  },
  {
   "cell_type": "markdown",
   "metadata": {},
   "source": [
    "Set-Up"
   ]
  },
  {
   "cell_type": "code",
   "execution_count": 86,
   "metadata": {},
   "outputs": [],
   "source": [
    "import os\n",
    "import pandas as pd\n",
    "parent_dir = os.path.dirname(os.getcwd())\n",
    "# Specify the file path\n",
    "file_path = parent_dir + '/external_data/agriSpot.xlsx'"
   ]
  },
  {
   "cell_type": "markdown",
   "metadata": {},
   "source": [
    "AgriSpot"
   ]
  },
  {
   "cell_type": "code",
   "execution_count": 87,
   "metadata": {},
   "outputs": [],
   "source": [
    "# Read the Excel file into a pandas dataframe\n",
    "df_agri = pd.read_excel(file_path)\n",
    "df_agri = df_agri.drop(df_agri.columns[0], axis=1)\n",
    "df_agri = df_agri.drop(df_agri.index[:6])\n",
    "df_agri = df_agri.rename(columns={'Unnamed: 1': 'date', 'Unnamed: 2': 'agri_spot ($)'})\n",
    "df_agri.reset_index(drop=True, inplace=True)\n",
    "df_agri.to_csv(parent_dir + '/External_data_csv/df_agri.csv', index=False)\n",
    "#df_agri"
   ]
  },
  {
   "cell_type": "markdown",
   "metadata": {},
   "source": [
    "CornSpot"
   ]
  },
  {
   "cell_type": "code",
   "execution_count": 88,
   "metadata": {},
   "outputs": [],
   "source": [
    "# Import the CornSpot.xlsx file as a pandas dataframe\n",
    "df_corn = pd.read_excel(parent_dir + '/External_data/CornSpot.xlsx')\n",
    "df_corn = df_corn.drop(df_corn.columns[0], axis=1)\n",
    "df_corn = df_corn.drop(df_corn.index[:6])\n",
    "df_corn = df_corn.rename(columns={'Unnamed: 1': 'date', 'Unnamed: 2': 'corn_price ($)'})\n",
    "df_corn.to_csv(parent_dir + '/External_data_csv/df_corn.csv', index=False)\n",
    "#df_corn"
   ]
  },
  {
   "cell_type": "markdown",
   "metadata": {},
   "source": [
    "GER10Y"
   ]
  },
  {
   "cell_type": "code",
   "execution_count": 89,
   "metadata": {},
   "outputs": [],
   "source": [
    "# Import the GER10Y.xlsx file as a pandas dataframe\n",
    "df_ger10y = pd.read_excel(parent_dir + '/External_data/GER10Y.xlsx')\n",
    "df_ger10y = df_ger10y.drop(df_ger10y.columns[0], axis=1)\n",
    "df_ger10y = df_ger10y.drop(df_ger10y.index[:6])\n",
    "df_ger10y = df_ger10y.rename(columns={'Unnamed: 1': 'date', 'Unnamed: 2': 'interest rate'})\n",
    "df_ger10y.to_csv(parent_dir + '/External_data_csv/df_ger10y.csv', index=False)\n",
    "#df_ger10y"
   ]
  },
  {
   "cell_type": "markdown",
   "metadata": {},
   "source": [
    "SoySpot"
   ]
  },
  {
   "cell_type": "code",
   "execution_count": 90,
   "metadata": {},
   "outputs": [],
   "source": [
    "# Import the SoySpot.xlsx file as a pandas dataframe\n",
    "df_soy = pd.read_excel(parent_dir + '/External_data/SoySpot.xlsx')\n",
    "df_soy = df_soy.drop(df_soy.columns[0], axis=1)\n",
    "df_soy = df_soy.drop(df_soy.index[:6])\n",
    "df_soy = df_soy.rename(columns={'Unnamed: 1': 'date', 'Unnamed: 2': 'soy_price ($)'})\n",
    "df_soy.to_csv(parent_dir + '/External_data_csv/df_soy.csv', index=False)\n",
    "#df_soy"
   ]
  },
  {
   "cell_type": "markdown",
   "metadata": {},
   "source": [
    "USTR10Y"
   ]
  },
  {
   "cell_type": "code",
   "execution_count": 91,
   "metadata": {},
   "outputs": [],
   "source": [
    "# Import the USTR10Y.xlsx file as a pandas dataframe\n",
    "df_ustr10y = pd.read_excel(parent_dir + '/External_data/USTR10Y.xlsx')\n",
    "df_ustr10y = df_ustr10y.drop(df_ustr10y.columns[0], axis=1)\n",
    "df_ustr10y = df_ustr10y.drop(df_ustr10y.index[:6])\n",
    "df_ustr10y = df_ustr10y.rename(columns={'Unnamed: 1': 'date', 'Unnamed: 2': 'interest rate'})\n",
    "df_ustr10y.to_csv(parent_dir + '/External_data_csv/df_ustr10y.csv', index=False)\n",
    "#df_ustr10y"
   ]
  },
  {
   "cell_type": "markdown",
   "metadata": {},
   "source": [
    "WeizenSpot"
   ]
  },
  {
   "cell_type": "code",
   "execution_count": 92,
   "metadata": {},
   "outputs": [],
   "source": [
    "# Import the WeizenSpot.xlsx file as a pandas dataframe\n",
    "df_wheat = pd.read_excel(parent_dir + '/External_data/WeizenSpot.xlsx')\n",
    "df_wheat = df_wheat.drop(df_wheat.columns[:6], axis=1)\n",
    "df_wheat = df_wheat.drop(df_wheat.index[:6])\n",
    "df_wheat = df_wheat.rename(columns={'Unnamed: 6': 'date', 'Unnamed: 7': 'wheat_price ($)'})\n",
    "df_wheat.to_csv(parent_dir + '/External_data_csv/df_wheat.csv', index=False)\n",
    "#df_wheat"
   ]
  },
  {
   "cell_type": "markdown",
   "metadata": {},
   "source": [
    "WtiOilSpot"
   ]
  },
  {
   "cell_type": "code",
   "execution_count": 93,
   "metadata": {},
   "outputs": [],
   "source": [
    "# Import the WtiOilSpot.xlsx file as a pandas dataframe\n",
    "df_oil = pd.read_excel(parent_dir + '/External_data/WtiOilSpot.xlsx')\n",
    "df_oil = df_oil.drop(df_oil.columns[0], axis=1)\n",
    "df_oil = df_oil.drop(df_oil.index[:6])\n",
    "df_oil = df_oil.rename(columns={'Unnamed: 1': 'date', 'Unnamed: 2': 'oil price ($)'})\n",
    "df_oil.to_csv(parent_dir + '/External_data_csv/df_oil.csv', index=False)\n",
    "#df_oil"
   ]
  }
 ],
 "metadata": {
  "kernelspec": {
   "display_name": "Python 3",
   "language": "python",
   "name": "python3"
  },
  "language_info": {
   "codemirror_mode": {
    "name": "ipython",
    "version": 3
   },
   "file_extension": ".py",
   "mimetype": "text/x-python",
   "name": "python",
   "nbconvert_exporter": "python",
   "pygments_lexer": "ipython3",
   "version": "3.12.1"
  }
 },
 "nbformat": 4,
 "nbformat_minor": 2
}
