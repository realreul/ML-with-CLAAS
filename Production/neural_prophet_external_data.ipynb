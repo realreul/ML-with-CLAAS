{
 "cells": [
  {
   "cell_type": "code",
   "execution_count": 114,
   "metadata": {},
   "outputs": [],
   "source": [
    "import pandas as pd"
   ]
  },
  {
   "cell_type": "code",
   "execution_count": 115,
   "metadata": {},
   "outputs": [],
   "source": [
    "from neuralprophet import NeuralProphet, set_log_level"
   ]
  },
  {
   "cell_type": "code",
   "execution_count": 116,
   "metadata": {},
   "outputs": [],
   "source": [
    "df = pd.read_csv('../CLAAS_data/MLbase_DataFrame.csv')\n",
    "df = df.rename(columns={'Datum': 'ds', 'Relativer Anteil': 'y'})"
   ]
  },
  {
   "cell_type": "code",
   "execution_count": 117,
   "metadata": {},
   "outputs": [
    {
     "data": {
      "text/html": [
       "<div>\n",
       "<style scoped>\n",
       "    .dataframe tbody tr th:only-of-type {\n",
       "        vertical-align: middle;\n",
       "    }\n",
       "\n",
       "    .dataframe tbody tr th {\n",
       "        vertical-align: top;\n",
       "    }\n",
       "\n",
       "    .dataframe thead th {\n",
       "        text-align: right;\n",
       "    }\n",
       "</style>\n",
       "<table border=\"1\" class=\"dataframe\">\n",
       "  <thead>\n",
       "    <tr style=\"text-align: right;\">\n",
       "      <th></th>\n",
       "      <th>ds</th>\n",
       "      <th>Merkmal</th>\n",
       "      <th>Merkmalwert</th>\n",
       "      <th>Bestätigte Menge</th>\n",
       "      <th>y</th>\n",
       "      <th>USTR10Y</th>\n",
       "      <th>CBIPSFE</th>\n",
       "      <th>WeizenSpot</th>\n",
       "      <th>CornSpot</th>\n",
       "      <th>CBI</th>\n",
       "      <th>GER10Y</th>\n",
       "      <th>WtiOilSpot</th>\n",
       "      <th>SoySpot</th>\n",
       "      <th>CBIPS</th>\n",
       "      <th>AgriSpot</th>\n",
       "    </tr>\n",
       "  </thead>\n",
       "  <tbody>\n",
       "    <tr>\n",
       "      <th>0</th>\n",
       "      <td>2013-04-01</td>\n",
       "      <td>B10</td>\n",
       "      <td>B10-0030</td>\n",
       "      <td>3</td>\n",
       "      <td>0.007692</td>\n",
       "      <td>NaN</td>\n",
       "      <td>NaN</td>\n",
       "      <td>NaN</td>\n",
       "      <td>NaN</td>\n",
       "      <td>NaN</td>\n",
       "      <td>NaN</td>\n",
       "      <td>NaN</td>\n",
       "      <td>NaN</td>\n",
       "      <td>NaN</td>\n",
       "      <td>NaN</td>\n",
       "    </tr>\n",
       "    <tr>\n",
       "      <th>1</th>\n",
       "      <td>2013-05-01</td>\n",
       "      <td>B10</td>\n",
       "      <td>B10-0030</td>\n",
       "      <td>0</td>\n",
       "      <td>0.000000</td>\n",
       "      <td>NaN</td>\n",
       "      <td>NaN</td>\n",
       "      <td>NaN</td>\n",
       "      <td>NaN</td>\n",
       "      <td>NaN</td>\n",
       "      <td>NaN</td>\n",
       "      <td>NaN</td>\n",
       "      <td>NaN</td>\n",
       "      <td>NaN</td>\n",
       "      <td>NaN</td>\n",
       "    </tr>\n",
       "    <tr>\n",
       "      <th>2</th>\n",
       "      <td>2013-06-01</td>\n",
       "      <td>B10</td>\n",
       "      <td>B10-0030</td>\n",
       "      <td>0</td>\n",
       "      <td>0.000000</td>\n",
       "      <td>NaN</td>\n",
       "      <td>NaN</td>\n",
       "      <td>NaN</td>\n",
       "      <td>NaN</td>\n",
       "      <td>NaN</td>\n",
       "      <td>NaN</td>\n",
       "      <td>NaN</td>\n",
       "      <td>NaN</td>\n",
       "      <td>NaN</td>\n",
       "      <td>NaN</td>\n",
       "    </tr>\n",
       "    <tr>\n",
       "      <th>3</th>\n",
       "      <td>2013-07-01</td>\n",
       "      <td>B10</td>\n",
       "      <td>B10-0030</td>\n",
       "      <td>0</td>\n",
       "      <td>0.000000</td>\n",
       "      <td>NaN</td>\n",
       "      <td>NaN</td>\n",
       "      <td>NaN</td>\n",
       "      <td>NaN</td>\n",
       "      <td>NaN</td>\n",
       "      <td>NaN</td>\n",
       "      <td>NaN</td>\n",
       "      <td>NaN</td>\n",
       "      <td>NaN</td>\n",
       "      <td>NaN</td>\n",
       "    </tr>\n",
       "    <tr>\n",
       "      <th>4</th>\n",
       "      <td>2013-08-01</td>\n",
       "      <td>B10</td>\n",
       "      <td>B10-0030</td>\n",
       "      <td>0</td>\n",
       "      <td>0.000000</td>\n",
       "      <td>NaN</td>\n",
       "      <td>NaN</td>\n",
       "      <td>NaN</td>\n",
       "      <td>NaN</td>\n",
       "      <td>NaN</td>\n",
       "      <td>NaN</td>\n",
       "      <td>NaN</td>\n",
       "      <td>NaN</td>\n",
       "      <td>NaN</td>\n",
       "      <td>NaN</td>\n",
       "    </tr>\n",
       "    <tr>\n",
       "      <th>...</th>\n",
       "      <td>...</td>\n",
       "      <td>...</td>\n",
       "      <td>...</td>\n",
       "      <td>...</td>\n",
       "      <td>...</td>\n",
       "      <td>...</td>\n",
       "      <td>...</td>\n",
       "      <td>...</td>\n",
       "      <td>...</td>\n",
       "      <td>...</td>\n",
       "      <td>...</td>\n",
       "      <td>...</td>\n",
       "      <td>...</td>\n",
       "      <td>...</td>\n",
       "      <td>...</td>\n",
       "    </tr>\n",
       "    <tr>\n",
       "      <th>18761</th>\n",
       "      <td>2023-10-01</td>\n",
       "      <td>P02</td>\n",
       "      <td>P02-2078</td>\n",
       "      <td>0</td>\n",
       "      <td>0.000000</td>\n",
       "      <td>4.687</td>\n",
       "      <td>-43.2</td>\n",
       "      <td>198.708</td>\n",
       "      <td>217.797</td>\n",
       "      <td>-31.9</td>\n",
       "      <td>2.911</td>\n",
       "      <td>88.82</td>\n",
       "      <td>260.098</td>\n",
       "      <td>-20.5</td>\n",
       "      <td>234.182</td>\n",
       "    </tr>\n",
       "    <tr>\n",
       "      <th>18762</th>\n",
       "      <td>2023-11-01</td>\n",
       "      <td>P02</td>\n",
       "      <td>P02-2078</td>\n",
       "      <td>10</td>\n",
       "      <td>0.033333</td>\n",
       "      <td>4.761</td>\n",
       "      <td>-43.5</td>\n",
       "      <td>196.365</td>\n",
       "      <td>214.936</td>\n",
       "      <td>-39.7</td>\n",
       "      <td>2.758</td>\n",
       "      <td>81.04</td>\n",
       "      <td>263.268</td>\n",
       "      <td>-35.9</td>\n",
       "      <td>234.431</td>\n",
       "    </tr>\n",
       "    <tr>\n",
       "      <th>18763</th>\n",
       "      <td>2023-12-01</td>\n",
       "      <td>P02</td>\n",
       "      <td>P02-2078</td>\n",
       "      <td>1</td>\n",
       "      <td>0.003846</td>\n",
       "      <td>4.220</td>\n",
       "      <td>-56.6</td>\n",
       "      <td>199.354</td>\n",
       "      <td>215.360</td>\n",
       "      <td>-47.5</td>\n",
       "      <td>2.363</td>\n",
       "      <td>73.72</td>\n",
       "      <td>266.732</td>\n",
       "      <td>-38.4</td>\n",
       "      <td>232.888</td>\n",
       "    </tr>\n",
       "    <tr>\n",
       "      <th>18764</th>\n",
       "      <td>2024-01-01</td>\n",
       "      <td>P02</td>\n",
       "      <td>P02-2078</td>\n",
       "      <td>0</td>\n",
       "      <td>0.000000</td>\n",
       "      <td>3.866</td>\n",
       "      <td>-58.8</td>\n",
       "      <td>206.624</td>\n",
       "      <td>210.593</td>\n",
       "      <td>-49.5</td>\n",
       "      <td>2.029</td>\n",
       "      <td>71.89</td>\n",
       "      <td>256.195</td>\n",
       "      <td>-40.2</td>\n",
       "      <td>228.351</td>\n",
       "    </tr>\n",
       "    <tr>\n",
       "      <th>18765</th>\n",
       "      <td>2024-02-01</td>\n",
       "      <td>P02</td>\n",
       "      <td>P02-2078</td>\n",
       "      <td>5</td>\n",
       "      <td>0.019157</td>\n",
       "      <td>3.858</td>\n",
       "      <td>-56.7</td>\n",
       "      <td>196.931</td>\n",
       "      <td>199.576</td>\n",
       "      <td>-51.7</td>\n",
       "      <td>2.140</td>\n",
       "      <td>74.36</td>\n",
       "      <td>238.780</td>\n",
       "      <td>-46.7</td>\n",
       "      <td>226.819</td>\n",
       "    </tr>\n",
       "  </tbody>\n",
       "</table>\n",
       "<p>18766 rows × 15 columns</p>\n",
       "</div>"
      ],
      "text/plain": [
       "               ds Merkmal Merkmalwert  Bestätigte Menge         y  USTR10Y  \\\n",
       "0      2013-04-01     B10    B10-0030                 3  0.007692      NaN   \n",
       "1      2013-05-01     B10    B10-0030                 0  0.000000      NaN   \n",
       "2      2013-06-01     B10    B10-0030                 0  0.000000      NaN   \n",
       "3      2013-07-01     B10    B10-0030                 0  0.000000      NaN   \n",
       "4      2013-08-01     B10    B10-0030                 0  0.000000      NaN   \n",
       "...           ...     ...         ...               ...       ...      ...   \n",
       "18761  2023-10-01     P02    P02-2078                 0  0.000000    4.687   \n",
       "18762  2023-11-01     P02    P02-2078                10  0.033333    4.761   \n",
       "18763  2023-12-01     P02    P02-2078                 1  0.003846    4.220   \n",
       "18764  2024-01-01     P02    P02-2078                 0  0.000000    3.866   \n",
       "18765  2024-02-01     P02    P02-2078                 5  0.019157    3.858   \n",
       "\n",
       "       CBIPSFE  WeizenSpot  CornSpot   CBI  GER10Y  WtiOilSpot  SoySpot  \\\n",
       "0          NaN         NaN       NaN   NaN     NaN         NaN      NaN   \n",
       "1          NaN         NaN       NaN   NaN     NaN         NaN      NaN   \n",
       "2          NaN         NaN       NaN   NaN     NaN         NaN      NaN   \n",
       "3          NaN         NaN       NaN   NaN     NaN         NaN      NaN   \n",
       "4          NaN         NaN       NaN   NaN     NaN         NaN      NaN   \n",
       "...        ...         ...       ...   ...     ...         ...      ...   \n",
       "18761    -43.2     198.708   217.797 -31.9   2.911       88.82  260.098   \n",
       "18762    -43.5     196.365   214.936 -39.7   2.758       81.04  263.268   \n",
       "18763    -56.6     199.354   215.360 -47.5   2.363       73.72  266.732   \n",
       "18764    -58.8     206.624   210.593 -49.5   2.029       71.89  256.195   \n",
       "18765    -56.7     196.931   199.576 -51.7   2.140       74.36  238.780   \n",
       "\n",
       "       CBIPS  AgriSpot  \n",
       "0        NaN       NaN  \n",
       "1        NaN       NaN  \n",
       "2        NaN       NaN  \n",
       "3        NaN       NaN  \n",
       "4        NaN       NaN  \n",
       "...      ...       ...  \n",
       "18761  -20.5   234.182  \n",
       "18762  -35.9   234.431  \n",
       "18763  -38.4   232.888  \n",
       "18764  -40.2   228.351  \n",
       "18765  -46.7   226.819  \n",
       "\n",
       "[18766 rows x 15 columns]"
      ]
     },
     "execution_count": 117,
     "metadata": {},
     "output_type": "execute_result"
    }
   ],
   "source": [
    "df"
   ]
  },
  {
   "cell_type": "code",
   "execution_count": 118,
   "metadata": {},
   "outputs": [],
   "source": [
    "Merkmal = \"B10\"\n",
    "Merkmalwert = \"B10-0030\""
   ]
  },
  {
   "cell_type": "code",
   "execution_count": 119,
   "metadata": {},
   "outputs": [],
   "source": [
    "filtered_df = df[(df['Merkmal'] == Merkmal) & (df['Merkmalwert'] == Merkmalwert)][['ds', 'y', 'AgriSpot']]\n",
    "#filtered_df = filtered_df.drop(columns=['Merkmal', 'Merkmalwert', 'Bestätigte Menge'])\n"
   ]
  },
  {
   "cell_type": "code",
   "execution_count": 120,
   "metadata": {},
   "outputs": [
    {
     "data": {
      "text/html": [
       "<div>\n",
       "<style scoped>\n",
       "    .dataframe tbody tr th:only-of-type {\n",
       "        vertical-align: middle;\n",
       "    }\n",
       "\n",
       "    .dataframe tbody tr th {\n",
       "        vertical-align: top;\n",
       "    }\n",
       "\n",
       "    .dataframe thead th {\n",
       "        text-align: right;\n",
       "    }\n",
       "</style>\n",
       "<table border=\"1\" class=\"dataframe\">\n",
       "  <thead>\n",
       "    <tr style=\"text-align: right;\">\n",
       "      <th></th>\n",
       "      <th>ds</th>\n",
       "      <th>y</th>\n",
       "      <th>AgriSpot</th>\n",
       "    </tr>\n",
       "  </thead>\n",
       "  <tbody>\n",
       "    <tr>\n",
       "      <th>0</th>\n",
       "      <td>2014-01-01</td>\n",
       "      <td>0.000000</td>\n",
       "      <td>200.399</td>\n",
       "    </tr>\n",
       "    <tr>\n",
       "      <th>1</th>\n",
       "      <td>2014-02-01</td>\n",
       "      <td>0.000000</td>\n",
       "      <td>201.583</td>\n",
       "    </tr>\n",
       "    <tr>\n",
       "      <th>2</th>\n",
       "      <td>2014-03-01</td>\n",
       "      <td>0.000000</td>\n",
       "      <td>221.079</td>\n",
       "    </tr>\n",
       "    <tr>\n",
       "      <th>3</th>\n",
       "      <td>2014-04-01</td>\n",
       "      <td>0.125654</td>\n",
       "      <td>233.772</td>\n",
       "    </tr>\n",
       "    <tr>\n",
       "      <th>4</th>\n",
       "      <td>2014-05-01</td>\n",
       "      <td>0.156134</td>\n",
       "      <td>236.510</td>\n",
       "    </tr>\n",
       "    <tr>\n",
       "      <th>5</th>\n",
       "      <td>2014-06-01</td>\n",
       "      <td>0.106145</td>\n",
       "      <td>214.915</td>\n",
       "    </tr>\n",
       "    <tr>\n",
       "      <th>6</th>\n",
       "      <td>2014-07-01</td>\n",
       "      <td>0.000000</td>\n",
       "      <td>201.409</td>\n",
       "    </tr>\n",
       "    <tr>\n",
       "      <th>7</th>\n",
       "      <td>2014-08-01</td>\n",
       "      <td>0.000000</td>\n",
       "      <td>188.486</td>\n",
       "    </tr>\n",
       "    <tr>\n",
       "      <th>8</th>\n",
       "      <td>2014-09-01</td>\n",
       "      <td>0.000000</td>\n",
       "      <td>190.507</td>\n",
       "    </tr>\n",
       "    <tr>\n",
       "      <th>9</th>\n",
       "      <td>2014-10-01</td>\n",
       "      <td>0.000000</td>\n",
       "      <td>173.713</td>\n",
       "    </tr>\n",
       "    <tr>\n",
       "      <th>10</th>\n",
       "      <td>2014-11-01</td>\n",
       "      <td>0.000000</td>\n",
       "      <td>191.032</td>\n",
       "    </tr>\n",
       "    <tr>\n",
       "      <th>11</th>\n",
       "      <td>2014-12-01</td>\n",
       "      <td>0.076233</td>\n",
       "      <td>195.542</td>\n",
       "    </tr>\n",
       "    <tr>\n",
       "      <th>12</th>\n",
       "      <td>2015-01-01</td>\n",
       "      <td>0.000000</td>\n",
       "      <td>190.917</td>\n",
       "    </tr>\n",
       "    <tr>\n",
       "      <th>13</th>\n",
       "      <td>2015-02-01</td>\n",
       "      <td>0.236422</td>\n",
       "      <td>176.570</td>\n",
       "    </tr>\n",
       "    <tr>\n",
       "      <th>14</th>\n",
       "      <td>2015-03-01</td>\n",
       "      <td>0.400552</td>\n",
       "      <td>178.786</td>\n",
       "    </tr>\n",
       "    <tr>\n",
       "      <th>15</th>\n",
       "      <td>2015-04-01</td>\n",
       "      <td>0.398268</td>\n",
       "      <td>178.676</td>\n",
       "    </tr>\n",
       "    <tr>\n",
       "      <th>16</th>\n",
       "      <td>2015-05-01</td>\n",
       "      <td>0.321519</td>\n",
       "      <td>171.362</td>\n",
       "    </tr>\n",
       "    <tr>\n",
       "      <th>17</th>\n",
       "      <td>2015-06-01</td>\n",
       "      <td>0.428571</td>\n",
       "      <td>169.646</td>\n",
       "    </tr>\n",
       "    <tr>\n",
       "      <th>18</th>\n",
       "      <td>2015-07-01</td>\n",
       "      <td>0.240132</td>\n",
       "      <td>188.250</td>\n",
       "    </tr>\n",
       "    <tr>\n",
       "      <th>19</th>\n",
       "      <td>2015-08-01</td>\n",
       "      <td>0.522388</td>\n",
       "      <td>170.311</td>\n",
       "    </tr>\n",
       "    <tr>\n",
       "      <th>20</th>\n",
       "      <td>2015-09-01</td>\n",
       "      <td>0.349515</td>\n",
       "      <td>166.239</td>\n",
       "    </tr>\n",
       "    <tr>\n",
       "      <th>21</th>\n",
       "      <td>2015-10-01</td>\n",
       "      <td>0.312500</td>\n",
       "      <td>171.256</td>\n",
       "    </tr>\n",
       "    <tr>\n",
       "      <th>22</th>\n",
       "      <td>2015-11-01</td>\n",
       "      <td>0.395939</td>\n",
       "      <td>174.261</td>\n",
       "    </tr>\n",
       "    <tr>\n",
       "      <th>23</th>\n",
       "      <td>2015-12-01</td>\n",
       "      <td>0.312693</td>\n",
       "      <td>168.467</td>\n",
       "    </tr>\n",
       "    <tr>\n",
       "      <th>24</th>\n",
       "      <td>2016-01-01</td>\n",
       "      <td>0.356707</td>\n",
       "      <td>165.812</td>\n",
       "    </tr>\n",
       "    <tr>\n",
       "      <th>25</th>\n",
       "      <td>2016-02-01</td>\n",
       "      <td>0.392765</td>\n",
       "      <td>165.925</td>\n",
       "    </tr>\n",
       "    <tr>\n",
       "      <th>26</th>\n",
       "      <td>2016-03-01</td>\n",
       "      <td>0.275610</td>\n",
       "      <td>161.183</td>\n",
       "    </tr>\n",
       "    <tr>\n",
       "      <th>27</th>\n",
       "      <td>2016-04-01</td>\n",
       "      <td>0.265092</td>\n",
       "      <td>167.877</td>\n",
       "    </tr>\n",
       "    <tr>\n",
       "      <th>28</th>\n",
       "      <td>2016-05-01</td>\n",
       "      <td>0.220779</td>\n",
       "      <td>177.418</td>\n",
       "    </tr>\n",
       "    <tr>\n",
       "      <th>29</th>\n",
       "      <td>2016-06-01</td>\n",
       "      <td>0.218045</td>\n",
       "      <td>184.091</td>\n",
       "    </tr>\n",
       "    <tr>\n",
       "      <th>30</th>\n",
       "      <td>2016-07-01</td>\n",
       "      <td>0.333333</td>\n",
       "      <td>179.832</td>\n",
       "    </tr>\n",
       "    <tr>\n",
       "      <th>31</th>\n",
       "      <td>2016-08-01</td>\n",
       "      <td>0.000000</td>\n",
       "      <td>166.994</td>\n",
       "    </tr>\n",
       "    <tr>\n",
       "      <th>32</th>\n",
       "      <td>2016-09-01</td>\n",
       "      <td>0.471698</td>\n",
       "      <td>160.807</td>\n",
       "    </tr>\n",
       "    <tr>\n",
       "      <th>33</th>\n",
       "      <td>2016-10-01</td>\n",
       "      <td>0.303030</td>\n",
       "      <td>163.876</td>\n",
       "    </tr>\n",
       "    <tr>\n",
       "      <th>34</th>\n",
       "      <td>2016-11-01</td>\n",
       "      <td>0.126761</td>\n",
       "      <td>170.246</td>\n",
       "    </tr>\n",
       "    <tr>\n",
       "      <th>35</th>\n",
       "      <td>2016-12-01</td>\n",
       "      <td>0.423810</td>\n",
       "      <td>163.497</td>\n",
       "    </tr>\n",
       "    <tr>\n",
       "      <th>36</th>\n",
       "      <td>2017-01-01</td>\n",
       "      <td>0.217666</td>\n",
       "      <td>167.066</td>\n",
       "    </tr>\n",
       "  </tbody>\n",
       "</table>\n",
       "</div>"
      ],
      "text/plain": [
       "            ds         y  AgriSpot\n",
       "0   2014-01-01  0.000000   200.399\n",
       "1   2014-02-01  0.000000   201.583\n",
       "2   2014-03-01  0.000000   221.079\n",
       "3   2014-04-01  0.125654   233.772\n",
       "4   2014-05-01  0.156134   236.510\n",
       "5   2014-06-01  0.106145   214.915\n",
       "6   2014-07-01  0.000000   201.409\n",
       "7   2014-08-01  0.000000   188.486\n",
       "8   2014-09-01  0.000000   190.507\n",
       "9   2014-10-01  0.000000   173.713\n",
       "10  2014-11-01  0.000000   191.032\n",
       "11  2014-12-01  0.076233   195.542\n",
       "12  2015-01-01  0.000000   190.917\n",
       "13  2015-02-01  0.236422   176.570\n",
       "14  2015-03-01  0.400552   178.786\n",
       "15  2015-04-01  0.398268   178.676\n",
       "16  2015-05-01  0.321519   171.362\n",
       "17  2015-06-01  0.428571   169.646\n",
       "18  2015-07-01  0.240132   188.250\n",
       "19  2015-08-01  0.522388   170.311\n",
       "20  2015-09-01  0.349515   166.239\n",
       "21  2015-10-01  0.312500   171.256\n",
       "22  2015-11-01  0.395939   174.261\n",
       "23  2015-12-01  0.312693   168.467\n",
       "24  2016-01-01  0.356707   165.812\n",
       "25  2016-02-01  0.392765   165.925\n",
       "26  2016-03-01  0.275610   161.183\n",
       "27  2016-04-01  0.265092   167.877\n",
       "28  2016-05-01  0.220779   177.418\n",
       "29  2016-06-01  0.218045   184.091\n",
       "30  2016-07-01  0.333333   179.832\n",
       "31  2016-08-01  0.000000   166.994\n",
       "32  2016-09-01  0.471698   160.807\n",
       "33  2016-10-01  0.303030   163.876\n",
       "34  2016-11-01  0.126761   170.246\n",
       "35  2016-12-01  0.423810   163.497\n",
       "36  2017-01-01  0.217666   167.066"
      ]
     },
     "execution_count": 120,
     "metadata": {},
     "output_type": "execute_result"
    }
   ],
   "source": [
    "\n",
    "filtered_df = filtered_df.iloc[9:]\n",
    "#filtered_df = filtered_df.drop(columns=['AgriSpot'])\n",
    "filtered_df = filtered_df.reset_index(drop=True)\n",
    "filtered_df"
   ]
  },
  {
   "cell_type": "code",
   "execution_count": 121,
   "metadata": {},
   "outputs": [
    {
     "name": "stderr",
     "output_type": "stream",
     "text": [
      "WARNING - (py.warnings._showwarnmsg) - /Users/alexander-reul/anaconda3/lib/python3.11/site-packages/neuralprophet/df_utils.py:1152: FutureWarning:\n",
      "\n",
      "Series.view is deprecated and will be removed in a future version. Use ``astype`` as an alternative to change the dtype.\n",
      "\n",
      "\n",
      "WARNING - (py.warnings._showwarnmsg) - /Users/alexander-reul/anaconda3/lib/python3.11/site-packages/neuralprophet/df_utils.py:1152: FutureWarning:\n",
      "\n",
      "Series.view is deprecated and will be removed in a future version. Use ``astype`` as an alternative to change the dtype.\n",
      "\n",
      "\n",
      "WARNING - (py.warnings._showwarnmsg) - /Users/alexander-reul/anaconda3/lib/python3.11/site-packages/neuralprophet/df_utils.py:1152: FutureWarning:\n",
      "\n",
      "Series.view is deprecated and will be removed in a future version. Use ``astype`` as an alternative to change the dtype.\n",
      "\n",
      "\n"
     ]
    },
    {
     "data": {
      "application/vnd.jupyter.widget-view+json": {
       "model_id": "2402f47ff67f4675a82a19478610e44e",
       "version_major": 2,
       "version_minor": 0
      },
      "text/plain": [
       "Training: |          | 0/? [00:00<?, ?it/s]"
      ]
     },
     "metadata": {},
     "output_type": "display_data"
    },
    {
     "data": {
      "application/vnd.jupyter.widget-view+json": {
       "model_id": "8c08109472264df0a32373810c902f26",
       "version_major": 2,
       "version_minor": 0
      },
      "text/plain": [
       "Finding best initial lr:   0%|          | 0/203 [00:00<?, ?it/s]"
      ]
     },
     "metadata": {},
     "output_type": "display_data"
    },
    {
     "name": "stderr",
     "output_type": "stream",
     "text": [
      "WARNING - (py.warnings._showwarnmsg) - /Users/alexander-reul/anaconda3/lib/python3.11/site-packages/lightning_fabric/utilities/cloud_io.py:57: FutureWarning:\n",
      "\n",
      "You are using `torch.load` with `weights_only=False` (the current default value), which uses the default pickle module implicitly. It is possible to construct malicious pickle data which will execute arbitrary code during unpickling (See https://github.com/pytorch/pytorch/blob/main/SECURITY.md#untrusted-models for more details). In a future release, the default value for `weights_only` will be flipped to `True`. This limits the functions that could be executed during unpickling. Arbitrary objects will no longer be allowed to be loaded via this mode unless they are explicitly allowlisted by the user via `torch.serialization.add_safe_globals`. We recommend you start setting `weights_only=True` for any use case where you don't have full control of the loaded file. Please open an issue on GitHub for any issues related to this experimental feature.\n",
      "\n",
      "\n"
     ]
    },
    {
     "data": {
      "application/vnd.jupyter.widget-view+json": {
       "model_id": "76012a5b6f4c4576be9c28474b6a262c",
       "version_major": 2,
       "version_minor": 0
      },
      "text/plain": [
       "Training: |          | 0/? [00:00<?, ?it/s]"
      ]
     },
     "metadata": {},
     "output_type": "display_data"
    },
    {
     "data": {
      "text/html": [
       "<div>\n",
       "<style scoped>\n",
       "    .dataframe tbody tr th:only-of-type {\n",
       "        vertical-align: middle;\n",
       "    }\n",
       "\n",
       "    .dataframe tbody tr th {\n",
       "        vertical-align: top;\n",
       "    }\n",
       "\n",
       "    .dataframe thead th {\n",
       "        text-align: right;\n",
       "    }\n",
       "</style>\n",
       "<table border=\"1\" class=\"dataframe\">\n",
       "  <thead>\n",
       "    <tr style=\"text-align: right;\">\n",
       "      <th></th>\n",
       "      <th>train_loss</th>\n",
       "      <th>reg_loss</th>\n",
       "      <th>MAE</th>\n",
       "      <th>RMSE</th>\n",
       "      <th>Loss</th>\n",
       "      <th>RegLoss</th>\n",
       "      <th>epoch</th>\n",
       "    </tr>\n",
       "  </thead>\n",
       "  <tbody>\n",
       "    <tr>\n",
       "      <th>0</th>\n",
       "      <td>0.401327</td>\n",
       "      <td>0.0</td>\n",
       "      <td>0.307172</td>\n",
       "      <td>0.371064</td>\n",
       "      <td>0.401320</td>\n",
       "      <td>0.0</td>\n",
       "      <td>0</td>\n",
       "    </tr>\n",
       "    <tr>\n",
       "      <th>1</th>\n",
       "      <td>0.365808</td>\n",
       "      <td>0.0</td>\n",
       "      <td>0.285591</td>\n",
       "      <td>0.341880</td>\n",
       "      <td>0.363207</td>\n",
       "      <td>0.0</td>\n",
       "      <td>1</td>\n",
       "    </tr>\n",
       "    <tr>\n",
       "      <th>2</th>\n",
       "      <td>0.333934</td>\n",
       "      <td>0.0</td>\n",
       "      <td>0.271722</td>\n",
       "      <td>0.325740</td>\n",
       "      <td>0.343555</td>\n",
       "      <td>0.0</td>\n",
       "      <td>2</td>\n",
       "    </tr>\n",
       "    <tr>\n",
       "      <th>3</th>\n",
       "      <td>0.305986</td>\n",
       "      <td>0.0</td>\n",
       "      <td>0.262739</td>\n",
       "      <td>0.319396</td>\n",
       "      <td>0.325771</td>\n",
       "      <td>0.0</td>\n",
       "      <td>3</td>\n",
       "    </tr>\n",
       "    <tr>\n",
       "      <th>4</th>\n",
       "      <td>0.281287</td>\n",
       "      <td>0.0</td>\n",
       "      <td>0.254339</td>\n",
       "      <td>0.304993</td>\n",
       "      <td>0.304613</td>\n",
       "      <td>0.0</td>\n",
       "      <td>4</td>\n",
       "    </tr>\n",
       "    <tr>\n",
       "      <th>...</th>\n",
       "      <td>...</td>\n",
       "      <td>...</td>\n",
       "      <td>...</td>\n",
       "      <td>...</td>\n",
       "      <td>...</td>\n",
       "      <td>...</td>\n",
       "      <td>...</td>\n",
       "    </tr>\n",
       "    <tr>\n",
       "      <th>375</th>\n",
       "      <td>0.040830</td>\n",
       "      <td>0.0</td>\n",
       "      <td>0.057938</td>\n",
       "      <td>0.069507</td>\n",
       "      <td>0.037391</td>\n",
       "      <td>0.0</td>\n",
       "      <td>375</td>\n",
       "    </tr>\n",
       "    <tr>\n",
       "      <th>376</th>\n",
       "      <td>0.040834</td>\n",
       "      <td>0.0</td>\n",
       "      <td>0.064982</td>\n",
       "      <td>0.078863</td>\n",
       "      <td>0.048078</td>\n",
       "      <td>0.0</td>\n",
       "      <td>376</td>\n",
       "    </tr>\n",
       "    <tr>\n",
       "      <th>377</th>\n",
       "      <td>0.040842</td>\n",
       "      <td>0.0</td>\n",
       "      <td>0.061628</td>\n",
       "      <td>0.072752</td>\n",
       "      <td>0.039914</td>\n",
       "      <td>0.0</td>\n",
       "      <td>377</td>\n",
       "    </tr>\n",
       "    <tr>\n",
       "      <th>378</th>\n",
       "      <td>0.040849</td>\n",
       "      <td>0.0</td>\n",
       "      <td>0.064589</td>\n",
       "      <td>0.076477</td>\n",
       "      <td>0.045138</td>\n",
       "      <td>0.0</td>\n",
       "      <td>378</td>\n",
       "    </tr>\n",
       "    <tr>\n",
       "      <th>379</th>\n",
       "      <td>0.040856</td>\n",
       "      <td>0.0</td>\n",
       "      <td>0.066401</td>\n",
       "      <td>0.078180</td>\n",
       "      <td>0.050209</td>\n",
       "      <td>0.0</td>\n",
       "      <td>379</td>\n",
       "    </tr>\n",
       "  </tbody>\n",
       "</table>\n",
       "<p>380 rows × 7 columns</p>\n",
       "</div>"
      ],
      "text/plain": [
       "     train_loss  reg_loss       MAE      RMSE      Loss  RegLoss  epoch\n",
       "0      0.401327       0.0  0.307172  0.371064  0.401320      0.0      0\n",
       "1      0.365808       0.0  0.285591  0.341880  0.363207      0.0      1\n",
       "2      0.333934       0.0  0.271722  0.325740  0.343555      0.0      2\n",
       "3      0.305986       0.0  0.262739  0.319396  0.325771      0.0      3\n",
       "4      0.281287       0.0  0.254339  0.304993  0.304613      0.0      4\n",
       "..          ...       ...       ...       ...       ...      ...    ...\n",
       "375    0.040830       0.0  0.057938  0.069507  0.037391      0.0    375\n",
       "376    0.040834       0.0  0.064982  0.078863  0.048078      0.0    376\n",
       "377    0.040842       0.0  0.061628  0.072752  0.039914      0.0    377\n",
       "378    0.040849       0.0  0.064589  0.076477  0.045138      0.0    378\n",
       "379    0.040856       0.0  0.066401  0.078180  0.050209      0.0    379\n",
       "\n",
       "[380 rows x 7 columns]"
      ]
     },
     "execution_count": 121,
     "metadata": {},
     "output_type": "execute_result"
    }
   ],
   "source": [
    "set_log_level('ERROR')\n",
    "model = NeuralProphet(\n",
    "    #default parameters: n_changepoints=5, changepoints_range=0.8, trend_reg=0, weakly_seasonality=5,\n",
    "    yearly_seasonality=True\n",
    ")\n",
    "model.add_lagged_regressor('AgriSpot', n_lags=1) #default parameters: lag=5, width=0.8\n",
    "model.fit(filtered_df, freq='MS')"
   ]
  },
  {
   "cell_type": "code",
   "execution_count": 122,
   "metadata": {},
   "outputs": [],
   "source": [
    "#future = model.make_future_dataframe(filtered_df, periods=12)\n",
    "#future"
   ]
  },
  {
   "cell_type": "code",
   "execution_count": 123,
   "metadata": {},
   "outputs": [
    {
     "name": "stderr",
     "output_type": "stream",
     "text": [
      "WARNING - (py.warnings._showwarnmsg) - /Users/alexander-reul/anaconda3/lib/python3.11/site-packages/neuralprophet/df_utils.py:1152: FutureWarning:\n",
      "\n",
      "Series.view is deprecated and will be removed in a future version. Use ``astype`` as an alternative to change the dtype.\n",
      "\n",
      "\n",
      "WARNING - (py.warnings._showwarnmsg) - /Users/alexander-reul/anaconda3/lib/python3.11/site-packages/neuralprophet/df_utils.py:1152: FutureWarning:\n",
      "\n",
      "Series.view is deprecated and will be removed in a future version. Use ``astype`` as an alternative to change the dtype.\n",
      "\n",
      "\n",
      "WARNING - (py.warnings._showwarnmsg) - /Users/alexander-reul/anaconda3/lib/python3.11/site-packages/neuralprophet/df_utils.py:1152: FutureWarning:\n",
      "\n",
      "Series.view is deprecated and will be removed in a future version. Use ``astype`` as an alternative to change the dtype.\n",
      "\n",
      "\n",
      "WARNING - (py.warnings._showwarnmsg) - /Users/alexander-reul/anaconda3/lib/python3.11/site-packages/neuralprophet/df_utils.py:1152: FutureWarning:\n",
      "\n",
      "Series.view is deprecated and will be removed in a future version. Use ``astype`` as an alternative to change the dtype.\n",
      "\n",
      "\n",
      "WARNING - (py.warnings._showwarnmsg) - /Users/alexander-reul/anaconda3/lib/python3.11/site-packages/neuralprophet/df_utils.py:1152: FutureWarning:\n",
      "\n",
      "Series.view is deprecated and will be removed in a future version. Use ``astype`` as an alternative to change the dtype.\n",
      "\n",
      "\n",
      "WARNING - (py.warnings._showwarnmsg) - /Users/alexander-reul/anaconda3/lib/python3.11/site-packages/neuralprophet/df_utils.py:1152: FutureWarning:\n",
      "\n",
      "Series.view is deprecated and will be removed in a future version. Use ``astype`` as an alternative to change the dtype.\n",
      "\n",
      "\n"
     ]
    },
    {
     "data": {
      "application/vnd.jupyter.widget-view+json": {
       "model_id": "5d511795bc9b41d494ecf1ab676b870c",
       "version_major": 2,
       "version_minor": 0
      },
      "text/plain": [
       "Predicting: |          | 0/? [00:00<?, ?it/s]"
      ]
     },
     "metadata": {},
     "output_type": "display_data"
    }
   ],
   "source": [
    "forecast = model.predict(filtered_df)"
   ]
  },
  {
   "cell_type": "code",
   "execution_count": 124,
   "metadata": {},
   "outputs": [
    {
     "name": "stderr",
     "output_type": "stream",
     "text": [
      "ERROR - (NP.plotly.plot) - plotly-resampler is not installed. Please install it to use the resampler.\n",
      "WARNING - (py.warnings._showwarnmsg) - /Users/alexander-reul/anaconda3/lib/python3.11/site-packages/neuralprophet/plot_forecast_plotly.py:100: FutureWarning:\n",
      "\n",
      "The behavior of DatetimeProperties.to_pydatetime is deprecated, in a future version this will return a Series containing python datetime objects instead of an ndarray. To retain the old behavior, call `np.array` on the result\n",
      "\n",
      "\n"
     ]
    }
   ],
   "source": [
    "#forecast = model.predict(future)\n",
    "#forecast['yhat'] = forecast['yhat'].apply(lambda x: max(x, 0)) # make sure we don't predict negative values\n",
    "#forecast['yhat'] = forecast['yhat'].apply(lambda x: min(x, 1)) # make sure we don't predict values above 100%\n",
    "fig = model.plot(forecast)"
   ]
  },
  {
   "cell_type": "code",
   "execution_count": 125,
   "metadata": {},
   "outputs": [
    {
     "data": {
      "application/vnd.plotly.v1+json": {
       "config": {
        "plotlyServerURL": "https://plot.ly"
       },
       "data": [
        {
         "fill": "none",
         "line": {
          "color": "rgba(45, 146, 255, 1.0)",
          "width": 2
         },
         "mode": "lines",
         "name": "yhat1",
         "type": "scatter",
         "x": [
          "2014-01-01T00:00:00",
          "2014-02-01T00:00:00",
          "2014-03-01T00:00:00",
          "2014-04-01T00:00:00",
          "2014-05-01T00:00:00",
          "2014-06-01T00:00:00",
          "2014-07-01T00:00:00",
          "2014-08-01T00:00:00",
          "2014-09-01T00:00:00",
          "2014-10-01T00:00:00",
          "2014-11-01T00:00:00",
          "2014-12-01T00:00:00",
          "2015-01-01T00:00:00",
          "2015-02-01T00:00:00",
          "2015-03-01T00:00:00",
          "2015-04-01T00:00:00",
          "2015-05-01T00:00:00",
          "2015-06-01T00:00:00",
          "2015-07-01T00:00:00",
          "2015-08-01T00:00:00",
          "2015-09-01T00:00:00",
          "2015-10-01T00:00:00",
          "2015-11-01T00:00:00",
          "2015-12-01T00:00:00",
          "2016-01-01T00:00:00",
          "2016-02-01T00:00:00",
          "2016-03-01T00:00:00",
          "2016-04-01T00:00:00",
          "2016-05-01T00:00:00",
          "2016-06-01T00:00:00",
          "2016-07-01T00:00:00",
          "2016-08-01T00:00:00",
          "2016-09-01T00:00:00",
          "2016-10-01T00:00:00",
          "2016-11-01T00:00:00",
          "2016-12-01T00:00:00",
          "2017-01-01T00:00:00"
         ],
         "y": [
          null,
          0.018477976322174072,
          0.05484155938029289,
          0.12388984858989716,
          0.0896507129073143,
          0.1115679070353508,
          0.0065040551126003265,
          -0.043380919843912125,
          0.0538400337100029,
          0.014208855107426643,
          -0.07293327897787094,
          0.10486075282096863,
          0.08810386061668396,
          0.27930158376693726,
          0.3065361976623535,
          0.38967031240463257,
          0.3439944088459015,
          0.36000654101371765,
          0.3160631060600281,
          0.37688136100769043,
          0.4376247525215149,
          0.36743947863578796,
          0.2997778058052063,
          0.4097743630409241,
          0.26321232318878174,
          0.346752405166626,
          0.311913400888443,
          0.2695741057395935,
          0.24427539110183716,
          0.2603948414325714,
          0.27009931206703186,
          0.23090285062789917,
          0.362951397895813,
          0.251349538564682,
          0.23838776350021362,
          0.3233719766139984,
          0.2561624348163605
         ]
        },
        {
         "marker": {
          "color": "black",
          "size": 4
         },
         "mode": "markers",
         "name": "Actual",
         "type": "scatter",
         "x": [
          "2014-01-01T00:00:00",
          "2014-02-01T00:00:00",
          "2014-03-01T00:00:00",
          "2014-04-01T00:00:00",
          "2014-05-01T00:00:00",
          "2014-06-01T00:00:00",
          "2014-07-01T00:00:00",
          "2014-08-01T00:00:00",
          "2014-09-01T00:00:00",
          "2014-10-01T00:00:00",
          "2014-11-01T00:00:00",
          "2014-12-01T00:00:00",
          "2015-01-01T00:00:00",
          "2015-02-01T00:00:00",
          "2015-03-01T00:00:00",
          "2015-04-01T00:00:00",
          "2015-05-01T00:00:00",
          "2015-06-01T00:00:00",
          "2015-07-01T00:00:00",
          "2015-08-01T00:00:00",
          "2015-09-01T00:00:00",
          "2015-10-01T00:00:00",
          "2015-11-01T00:00:00",
          "2015-12-01T00:00:00",
          "2016-01-01T00:00:00",
          "2016-02-01T00:00:00",
          "2016-03-01T00:00:00",
          "2016-04-01T00:00:00",
          "2016-05-01T00:00:00",
          "2016-06-01T00:00:00",
          "2016-07-01T00:00:00",
          "2016-08-01T00:00:00",
          "2016-09-01T00:00:00",
          "2016-10-01T00:00:00",
          "2016-11-01T00:00:00",
          "2016-12-01T00:00:00",
          "2017-01-01T00:00:00"
         ],
         "y": [
          0,
          0,
          0,
          0.1256544502617801,
          0.1561338289962825,
          0.106145251396648,
          0,
          0,
          0,
          0,
          0,
          0.0762331838565022,
          0,
          0.2364217252396166,
          0.4005524861878453,
          0.3982683982683982,
          0.3215189873417721,
          0.4285714285714285,
          0.2401315789473684,
          0.5223880597014925,
          0.3495145631067961,
          0.3125,
          0.3959390862944162,
          0.3126934984520124,
          0.3567073170731707,
          0.3927648578811369,
          0.275609756097561,
          0.2650918635170604,
          0.2207792207792207,
          0.2180451127819548,
          0.3333333333333333,
          0,
          0.4716981132075472,
          0.303030303030303,
          0.1267605633802817,
          0.4238095238095238,
          0.2176656151419558
         ]
        }
       ],
       "layout": {
        "autosize": true,
        "font": {
         "size": 10
        },
        "height": 420,
        "hovermode": "x unified",
        "margin": {
         "b": 0,
         "l": 0,
         "pad": 0,
         "r": 10,
         "t": 10
        },
        "showlegend": true,
        "template": {
         "data": {
          "bar": [
           {
            "error_x": {
             "color": "#2a3f5f"
            },
            "error_y": {
             "color": "#2a3f5f"
            },
            "marker": {
             "line": {
              "color": "white",
              "width": 0.5
             },
             "pattern": {
              "fillmode": "overlay",
              "size": 10,
              "solidity": 0.2
             }
            },
            "type": "bar"
           }
          ],
          "barpolar": [
           {
            "marker": {
             "line": {
              "color": "white",
              "width": 0.5
             },
             "pattern": {
              "fillmode": "overlay",
              "size": 10,
              "solidity": 0.2
             }
            },
            "type": "barpolar"
           }
          ],
          "carpet": [
           {
            "aaxis": {
             "endlinecolor": "#2a3f5f",
             "gridcolor": "#C8D4E3",
             "linecolor": "#C8D4E3",
             "minorgridcolor": "#C8D4E3",
             "startlinecolor": "#2a3f5f"
            },
            "baxis": {
             "endlinecolor": "#2a3f5f",
             "gridcolor": "#C8D4E3",
             "linecolor": "#C8D4E3",
             "minorgridcolor": "#C8D4E3",
             "startlinecolor": "#2a3f5f"
            },
            "type": "carpet"
           }
          ],
          "choropleth": [
           {
            "colorbar": {
             "outlinewidth": 0,
             "ticks": ""
            },
            "type": "choropleth"
           }
          ],
          "contour": [
           {
            "colorbar": {
             "outlinewidth": 0,
             "ticks": ""
            },
            "colorscale": [
             [
              0,
              "#0d0887"
             ],
             [
              0.1111111111111111,
              "#46039f"
             ],
             [
              0.2222222222222222,
              "#7201a8"
             ],
             [
              0.3333333333333333,
              "#9c179e"
             ],
             [
              0.4444444444444444,
              "#bd3786"
             ],
             [
              0.5555555555555556,
              "#d8576b"
             ],
             [
              0.6666666666666666,
              "#ed7953"
             ],
             [
              0.7777777777777778,
              "#fb9f3a"
             ],
             [
              0.8888888888888888,
              "#fdca26"
             ],
             [
              1,
              "#f0f921"
             ]
            ],
            "type": "contour"
           }
          ],
          "contourcarpet": [
           {
            "colorbar": {
             "outlinewidth": 0,
             "ticks": ""
            },
            "type": "contourcarpet"
           }
          ],
          "heatmap": [
           {
            "colorbar": {
             "outlinewidth": 0,
             "ticks": ""
            },
            "colorscale": [
             [
              0,
              "#0d0887"
             ],
             [
              0.1111111111111111,
              "#46039f"
             ],
             [
              0.2222222222222222,
              "#7201a8"
             ],
             [
              0.3333333333333333,
              "#9c179e"
             ],
             [
              0.4444444444444444,
              "#bd3786"
             ],
             [
              0.5555555555555556,
              "#d8576b"
             ],
             [
              0.6666666666666666,
              "#ed7953"
             ],
             [
              0.7777777777777778,
              "#fb9f3a"
             ],
             [
              0.8888888888888888,
              "#fdca26"
             ],
             [
              1,
              "#f0f921"
             ]
            ],
            "type": "heatmap"
           }
          ],
          "heatmapgl": [
           {
            "colorbar": {
             "outlinewidth": 0,
             "ticks": ""
            },
            "colorscale": [
             [
              0,
              "#0d0887"
             ],
             [
              0.1111111111111111,
              "#46039f"
             ],
             [
              0.2222222222222222,
              "#7201a8"
             ],
             [
              0.3333333333333333,
              "#9c179e"
             ],
             [
              0.4444444444444444,
              "#bd3786"
             ],
             [
              0.5555555555555556,
              "#d8576b"
             ],
             [
              0.6666666666666666,
              "#ed7953"
             ],
             [
              0.7777777777777778,
              "#fb9f3a"
             ],
             [
              0.8888888888888888,
              "#fdca26"
             ],
             [
              1,
              "#f0f921"
             ]
            ],
            "type": "heatmapgl"
           }
          ],
          "histogram": [
           {
            "marker": {
             "pattern": {
              "fillmode": "overlay",
              "size": 10,
              "solidity": 0.2
             }
            },
            "type": "histogram"
           }
          ],
          "histogram2d": [
           {
            "colorbar": {
             "outlinewidth": 0,
             "ticks": ""
            },
            "colorscale": [
             [
              0,
              "#0d0887"
             ],
             [
              0.1111111111111111,
              "#46039f"
             ],
             [
              0.2222222222222222,
              "#7201a8"
             ],
             [
              0.3333333333333333,
              "#9c179e"
             ],
             [
              0.4444444444444444,
              "#bd3786"
             ],
             [
              0.5555555555555556,
              "#d8576b"
             ],
             [
              0.6666666666666666,
              "#ed7953"
             ],
             [
              0.7777777777777778,
              "#fb9f3a"
             ],
             [
              0.8888888888888888,
              "#fdca26"
             ],
             [
              1,
              "#f0f921"
             ]
            ],
            "type": "histogram2d"
           }
          ],
          "histogram2dcontour": [
           {
            "colorbar": {
             "outlinewidth": 0,
             "ticks": ""
            },
            "colorscale": [
             [
              0,
              "#0d0887"
             ],
             [
              0.1111111111111111,
              "#46039f"
             ],
             [
              0.2222222222222222,
              "#7201a8"
             ],
             [
              0.3333333333333333,
              "#9c179e"
             ],
             [
              0.4444444444444444,
              "#bd3786"
             ],
             [
              0.5555555555555556,
              "#d8576b"
             ],
             [
              0.6666666666666666,
              "#ed7953"
             ],
             [
              0.7777777777777778,
              "#fb9f3a"
             ],
             [
              0.8888888888888888,
              "#fdca26"
             ],
             [
              1,
              "#f0f921"
             ]
            ],
            "type": "histogram2dcontour"
           }
          ],
          "mesh3d": [
           {
            "colorbar": {
             "outlinewidth": 0,
             "ticks": ""
            },
            "type": "mesh3d"
           }
          ],
          "parcoords": [
           {
            "line": {
             "colorbar": {
              "outlinewidth": 0,
              "ticks": ""
             }
            },
            "type": "parcoords"
           }
          ],
          "pie": [
           {
            "automargin": true,
            "type": "pie"
           }
          ],
          "scatter": [
           {
            "fillpattern": {
             "fillmode": "overlay",
             "size": 10,
             "solidity": 0.2
            },
            "type": "scatter"
           }
          ],
          "scatter3d": [
           {
            "line": {
             "colorbar": {
              "outlinewidth": 0,
              "ticks": ""
             }
            },
            "marker": {
             "colorbar": {
              "outlinewidth": 0,
              "ticks": ""
             }
            },
            "type": "scatter3d"
           }
          ],
          "scattercarpet": [
           {
            "marker": {
             "colorbar": {
              "outlinewidth": 0,
              "ticks": ""
             }
            },
            "type": "scattercarpet"
           }
          ],
          "scattergeo": [
           {
            "marker": {
             "colorbar": {
              "outlinewidth": 0,
              "ticks": ""
             }
            },
            "type": "scattergeo"
           }
          ],
          "scattergl": [
           {
            "marker": {
             "colorbar": {
              "outlinewidth": 0,
              "ticks": ""
             }
            },
            "type": "scattergl"
           }
          ],
          "scattermapbox": [
           {
            "marker": {
             "colorbar": {
              "outlinewidth": 0,
              "ticks": ""
             }
            },
            "type": "scattermapbox"
           }
          ],
          "scatterpolar": [
           {
            "marker": {
             "colorbar": {
              "outlinewidth": 0,
              "ticks": ""
             }
            },
            "type": "scatterpolar"
           }
          ],
          "scatterpolargl": [
           {
            "marker": {
             "colorbar": {
              "outlinewidth": 0,
              "ticks": ""
             }
            },
            "type": "scatterpolargl"
           }
          ],
          "scatterternary": [
           {
            "marker": {
             "colorbar": {
              "outlinewidth": 0,
              "ticks": ""
             }
            },
            "type": "scatterternary"
           }
          ],
          "surface": [
           {
            "colorbar": {
             "outlinewidth": 0,
             "ticks": ""
            },
            "colorscale": [
             [
              0,
              "#0d0887"
             ],
             [
              0.1111111111111111,
              "#46039f"
             ],
             [
              0.2222222222222222,
              "#7201a8"
             ],
             [
              0.3333333333333333,
              "#9c179e"
             ],
             [
              0.4444444444444444,
              "#bd3786"
             ],
             [
              0.5555555555555556,
              "#d8576b"
             ],
             [
              0.6666666666666666,
              "#ed7953"
             ],
             [
              0.7777777777777778,
              "#fb9f3a"
             ],
             [
              0.8888888888888888,
              "#fdca26"
             ],
             [
              1,
              "#f0f921"
             ]
            ],
            "type": "surface"
           }
          ],
          "table": [
           {
            "cells": {
             "fill": {
              "color": "#EBF0F8"
             },
             "line": {
              "color": "white"
             }
            },
            "header": {
             "fill": {
              "color": "#C8D4E3"
             },
             "line": {
              "color": "white"
             }
            },
            "type": "table"
           }
          ]
         },
         "layout": {
          "annotationdefaults": {
           "arrowcolor": "#2a3f5f",
           "arrowhead": 0,
           "arrowwidth": 1
          },
          "autotypenumbers": "strict",
          "coloraxis": {
           "colorbar": {
            "outlinewidth": 0,
            "ticks": ""
           }
          },
          "colorscale": {
           "diverging": [
            [
             0,
             "#8e0152"
            ],
            [
             0.1,
             "#c51b7d"
            ],
            [
             0.2,
             "#de77ae"
            ],
            [
             0.3,
             "#f1b6da"
            ],
            [
             0.4,
             "#fde0ef"
            ],
            [
             0.5,
             "#f7f7f7"
            ],
            [
             0.6,
             "#e6f5d0"
            ],
            [
             0.7,
             "#b8e186"
            ],
            [
             0.8,
             "#7fbc41"
            ],
            [
             0.9,
             "#4d9221"
            ],
            [
             1,
             "#276419"
            ]
           ],
           "sequential": [
            [
             0,
             "#0d0887"
            ],
            [
             0.1111111111111111,
             "#46039f"
            ],
            [
             0.2222222222222222,
             "#7201a8"
            ],
            [
             0.3333333333333333,
             "#9c179e"
            ],
            [
             0.4444444444444444,
             "#bd3786"
            ],
            [
             0.5555555555555556,
             "#d8576b"
            ],
            [
             0.6666666666666666,
             "#ed7953"
            ],
            [
             0.7777777777777778,
             "#fb9f3a"
            ],
            [
             0.8888888888888888,
             "#fdca26"
            ],
            [
             1,
             "#f0f921"
            ]
           ],
           "sequentialminus": [
            [
             0,
             "#0d0887"
            ],
            [
             0.1111111111111111,
             "#46039f"
            ],
            [
             0.2222222222222222,
             "#7201a8"
            ],
            [
             0.3333333333333333,
             "#9c179e"
            ],
            [
             0.4444444444444444,
             "#bd3786"
            ],
            [
             0.5555555555555556,
             "#d8576b"
            ],
            [
             0.6666666666666666,
             "#ed7953"
            ],
            [
             0.7777777777777778,
             "#fb9f3a"
            ],
            [
             0.8888888888888888,
             "#fdca26"
            ],
            [
             1,
             "#f0f921"
            ]
           ]
          },
          "colorway": [
           "#636efa",
           "#EF553B",
           "#00cc96",
           "#ab63fa",
           "#FFA15A",
           "#19d3f3",
           "#FF6692",
           "#B6E880",
           "#FF97FF",
           "#FECB52"
          ],
          "font": {
           "color": "#2a3f5f"
          },
          "geo": {
           "bgcolor": "white",
           "lakecolor": "white",
           "landcolor": "white",
           "showlakes": true,
           "showland": true,
           "subunitcolor": "#C8D4E3"
          },
          "hoverlabel": {
           "align": "left"
          },
          "hovermode": "closest",
          "mapbox": {
           "style": "light"
          },
          "paper_bgcolor": "white",
          "plot_bgcolor": "white",
          "polar": {
           "angularaxis": {
            "gridcolor": "#EBF0F8",
            "linecolor": "#EBF0F8",
            "ticks": ""
           },
           "bgcolor": "white",
           "radialaxis": {
            "gridcolor": "#EBF0F8",
            "linecolor": "#EBF0F8",
            "ticks": ""
           }
          },
          "scene": {
           "xaxis": {
            "backgroundcolor": "white",
            "gridcolor": "#DFE8F3",
            "gridwidth": 2,
            "linecolor": "#EBF0F8",
            "showbackground": true,
            "ticks": "",
            "zerolinecolor": "#EBF0F8"
           },
           "yaxis": {
            "backgroundcolor": "white",
            "gridcolor": "#DFE8F3",
            "gridwidth": 2,
            "linecolor": "#EBF0F8",
            "showbackground": true,
            "ticks": "",
            "zerolinecolor": "#EBF0F8"
           },
           "zaxis": {
            "backgroundcolor": "white",
            "gridcolor": "#DFE8F3",
            "gridwidth": 2,
            "linecolor": "#EBF0F8",
            "showbackground": true,
            "ticks": "",
            "zerolinecolor": "#EBF0F8"
           }
          },
          "shapedefaults": {
           "line": {
            "color": "#2a3f5f"
           }
          },
          "ternary": {
           "aaxis": {
            "gridcolor": "#DFE8F3",
            "linecolor": "#A2B1C6",
            "ticks": ""
           },
           "baxis": {
            "gridcolor": "#DFE8F3",
            "linecolor": "#A2B1C6",
            "ticks": ""
           },
           "bgcolor": "white",
           "caxis": {
            "gridcolor": "#DFE8F3",
            "linecolor": "#A2B1C6",
            "ticks": ""
           }
          },
          "title": {
           "x": 0.05
          },
          "xaxis": {
           "automargin": true,
           "gridcolor": "#EBF0F8",
           "linecolor": "#EBF0F8",
           "ticks": "",
           "title": {
            "standoff": 15
           },
           "zerolinecolor": "#EBF0F8",
           "zerolinewidth": 2
          },
          "yaxis": {
           "automargin": true,
           "gridcolor": "#EBF0F8",
           "linecolor": "#EBF0F8",
           "ticks": "",
           "title": {
            "standoff": 15
           },
           "zerolinecolor": "#EBF0F8",
           "zerolinewidth": 2
          }
         }
        },
        "title": {
         "font": {
          "size": 12
         }
        },
        "width": 700,
        "xaxis": {
         "linewidth": 1.5,
         "mirror": true,
         "rangeselector": {
          "buttons": [
           {
            "count": 7,
            "label": "1w",
            "step": "day",
            "stepmode": "backward"
           },
           {
            "count": 1,
            "label": "1m",
            "step": "month",
            "stepmode": "backward"
           },
           {
            "count": 6,
            "label": "6m",
            "step": "month",
            "stepmode": "backward"
           },
           {
            "count": 1,
            "label": "1y",
            "step": "year",
            "stepmode": "backward"
           },
           {
            "step": "all"
           }
          ]
         },
         "rangeslider": {
          "visible": true
         },
         "showline": true,
         "title": {
          "text": "ds"
         },
         "type": "date"
        },
        "yaxis": {
         "linewidth": 1.5,
         "mirror": true,
         "showline": true,
         "title": {
          "text": "y"
         }
        }
       }
      }
     },
     "metadata": {},
     "output_type": "display_data"
    }
   ],
   "source": [
    "fig"
   ]
  },
  {
   "cell_type": "code",
   "execution_count": 126,
   "metadata": {},
   "outputs": [
    {
     "data": {
      "text/html": [
       "<div>\n",
       "<style scoped>\n",
       "    .dataframe tbody tr th:only-of-type {\n",
       "        vertical-align: middle;\n",
       "    }\n",
       "\n",
       "    .dataframe tbody tr th {\n",
       "        vertical-align: top;\n",
       "    }\n",
       "\n",
       "    .dataframe thead th {\n",
       "        text-align: right;\n",
       "    }\n",
       "</style>\n",
       "<table border=\"1\" class=\"dataframe\">\n",
       "  <thead>\n",
       "    <tr style=\"text-align: right;\">\n",
       "      <th></th>\n",
       "      <th>ds</th>\n",
       "      <th>y</th>\n",
       "      <th>yhat1</th>\n",
       "      <th>lagged_regressor_AgriSpot1</th>\n",
       "      <th>trend</th>\n",
       "      <th>season_yearly</th>\n",
       "    </tr>\n",
       "  </thead>\n",
       "  <tbody>\n",
       "    <tr>\n",
       "      <th>0</th>\n",
       "      <td>2014-01-01</td>\n",
       "      <td>0.000000</td>\n",
       "      <td>NaN</td>\n",
       "      <td>NaN</td>\n",
       "      <td>NaN</td>\n",
       "      <td>NaN</td>\n",
       "    </tr>\n",
       "    <tr>\n",
       "      <th>1</th>\n",
       "      <td>2014-02-01</td>\n",
       "      <td>0.000000</td>\n",
       "      <td>0.018478</td>\n",
       "      <td>0.114907</td>\n",
       "      <td>-0.149625</td>\n",
       "      <td>0.053195</td>\n",
       "    </tr>\n",
       "    <tr>\n",
       "      <th>2</th>\n",
       "      <td>2014-03-01</td>\n",
       "      <td>0.000000</td>\n",
       "      <td>0.054842</td>\n",
       "      <td>0.118343</td>\n",
       "      <td>-0.141494</td>\n",
       "      <td>0.077992</td>\n",
       "    </tr>\n",
       "    <tr>\n",
       "      <th>3</th>\n",
       "      <td>2014-04-01</td>\n",
       "      <td>0.125654</td>\n",
       "      <td>0.123890</td>\n",
       "      <td>0.174926</td>\n",
       "      <td>-0.131159</td>\n",
       "      <td>0.080122</td>\n",
       "    </tr>\n",
       "    <tr>\n",
       "      <th>4</th>\n",
       "      <td>2014-05-01</td>\n",
       "      <td>0.156134</td>\n",
       "      <td>0.089651</td>\n",
       "      <td>0.211765</td>\n",
       "      <td>-0.118559</td>\n",
       "      <td>-0.003555</td>\n",
       "    </tr>\n",
       "    <tr>\n",
       "      <th>5</th>\n",
       "      <td>2014-06-01</td>\n",
       "      <td>0.106145</td>\n",
       "      <td>0.111568</td>\n",
       "      <td>0.219712</td>\n",
       "      <td>-0.105539</td>\n",
       "      <td>-0.002604</td>\n",
       "    </tr>\n",
       "    <tr>\n",
       "      <th>6</th>\n",
       "      <td>2014-07-01</td>\n",
       "      <td>0.000000</td>\n",
       "      <td>0.006504</td>\n",
       "      <td>0.157037</td>\n",
       "      <td>-0.099290</td>\n",
       "      <td>-0.051242</td>\n",
       "    </tr>\n",
       "    <tr>\n",
       "      <th>7</th>\n",
       "      <td>2014-08-01</td>\n",
       "      <td>0.000000</td>\n",
       "      <td>-0.043381</td>\n",
       "      <td>0.117838</td>\n",
       "      <td>-0.095393</td>\n",
       "      <td>-0.065827</td>\n",
       "    </tr>\n",
       "    <tr>\n",
       "      <th>8</th>\n",
       "      <td>2014-09-01</td>\n",
       "      <td>0.000000</td>\n",
       "      <td>0.053840</td>\n",
       "      <td>0.080332</td>\n",
       "      <td>-0.088287</td>\n",
       "      <td>0.061795</td>\n",
       "    </tr>\n",
       "    <tr>\n",
       "      <th>9</th>\n",
       "      <td>2014-10-01</td>\n",
       "      <td>0.000000</td>\n",
       "      <td>0.014209</td>\n",
       "      <td>0.086198</td>\n",
       "      <td>-0.059664</td>\n",
       "      <td>-0.012324</td>\n",
       "    </tr>\n",
       "    <tr>\n",
       "      <th>10</th>\n",
       "      <td>2014-11-01</td>\n",
       "      <td>0.000000</td>\n",
       "      <td>-0.072933</td>\n",
       "      <td>0.037457</td>\n",
       "      <td>-0.030088</td>\n",
       "      <td>-0.080303</td>\n",
       "    </tr>\n",
       "    <tr>\n",
       "      <th>11</th>\n",
       "      <td>2014-12-01</td>\n",
       "      <td>0.076233</td>\n",
       "      <td>0.104861</td>\n",
       "      <td>0.087721</td>\n",
       "      <td>0.013404</td>\n",
       "      <td>0.003735</td>\n",
       "    </tr>\n",
       "    <tr>\n",
       "      <th>12</th>\n",
       "      <td>2015-01-01</td>\n",
       "      <td>0.000000</td>\n",
       "      <td>0.088104</td>\n",
       "      <td>0.100811</td>\n",
       "      <td>0.073378</td>\n",
       "      <td>-0.086085</td>\n",
       "    </tr>\n",
       "    <tr>\n",
       "      <th>13</th>\n",
       "      <td>2015-02-01</td>\n",
       "      <td>0.236422</td>\n",
       "      <td>0.279302</td>\n",
       "      <td>0.087388</td>\n",
       "      <td>0.133352</td>\n",
       "      <td>0.058562</td>\n",
       "    </tr>\n",
       "    <tr>\n",
       "      <th>14</th>\n",
       "      <td>2015-03-01</td>\n",
       "      <td>0.400552</td>\n",
       "      <td>0.306536</td>\n",
       "      <td>0.045749</td>\n",
       "      <td>0.188878</td>\n",
       "      <td>0.071909</td>\n",
       "    </tr>\n",
       "    <tr>\n",
       "      <th>15</th>\n",
       "      <td>2015-04-01</td>\n",
       "      <td>0.398268</td>\n",
       "      <td>0.389670</td>\n",
       "      <td>0.052180</td>\n",
       "      <td>0.250504</td>\n",
       "      <td>0.086986</td>\n",
       "    </tr>\n",
       "    <tr>\n",
       "      <th>16</th>\n",
       "      <td>2015-05-01</td>\n",
       "      <td>0.321519</td>\n",
       "      <td>0.343994</td>\n",
       "      <td>0.051861</td>\n",
       "      <td>0.301829</td>\n",
       "      <td>-0.009696</td>\n",
       "    </tr>\n",
       "    <tr>\n",
       "      <th>17</th>\n",
       "      <td>2015-06-01</td>\n",
       "      <td>0.428571</td>\n",
       "      <td>0.360007</td>\n",
       "      <td>0.030634</td>\n",
       "      <td>0.325253</td>\n",
       "      <td>0.004120</td>\n",
       "    </tr>\n",
       "    <tr>\n",
       "      <th>18</th>\n",
       "      <td>2015-07-01</td>\n",
       "      <td>0.240132</td>\n",
       "      <td>0.316063</td>\n",
       "      <td>0.025653</td>\n",
       "      <td>0.347921</td>\n",
       "      <td>-0.057511</td>\n",
       "    </tr>\n",
       "    <tr>\n",
       "      <th>19</th>\n",
       "      <td>2015-08-01</td>\n",
       "      <td>0.522388</td>\n",
       "      <td>0.376881</td>\n",
       "      <td>0.079647</td>\n",
       "      <td>0.356583</td>\n",
       "      <td>-0.059349</td>\n",
       "    </tr>\n",
       "    <tr>\n",
       "      <th>20</th>\n",
       "      <td>2015-09-01</td>\n",
       "      <td>0.349515</td>\n",
       "      <td>0.437625</td>\n",
       "      <td>0.027583</td>\n",
       "      <td>0.355967</td>\n",
       "      <td>0.054074</td>\n",
       "    </tr>\n",
       "    <tr>\n",
       "      <th>21</th>\n",
       "      <td>2015-10-01</td>\n",
       "      <td>0.312500</td>\n",
       "      <td>0.367439</td>\n",
       "      <td>0.015765</td>\n",
       "      <td>0.355401</td>\n",
       "      <td>-0.003727</td>\n",
       "    </tr>\n",
       "    <tr>\n",
       "      <th>22</th>\n",
       "      <td>2015-11-01</td>\n",
       "      <td>0.395939</td>\n",
       "      <td>0.299778</td>\n",
       "      <td>0.030326</td>\n",
       "      <td>0.357578</td>\n",
       "      <td>-0.088126</td>\n",
       "    </tr>\n",
       "    <tr>\n",
       "      <th>23</th>\n",
       "      <td>2015-12-01</td>\n",
       "      <td>0.312693</td>\n",
       "      <td>0.409774</td>\n",
       "      <td>0.039047</td>\n",
       "      <td>0.359685</td>\n",
       "      <td>0.011042</td>\n",
       "    </tr>\n",
       "    <tr>\n",
       "      <th>24</th>\n",
       "      <td>2016-01-01</td>\n",
       "      <td>0.356707</td>\n",
       "      <td>0.263212</td>\n",
       "      <td>0.022231</td>\n",
       "      <td>0.334187</td>\n",
       "      <td>-0.093206</td>\n",
       "    </tr>\n",
       "    <tr>\n",
       "      <th>25</th>\n",
       "      <td>2016-02-01</td>\n",
       "      <td>0.392765</td>\n",
       "      <td>0.346752</td>\n",
       "      <td>0.014526</td>\n",
       "      <td>0.268373</td>\n",
       "      <td>0.063854</td>\n",
       "    </tr>\n",
       "    <tr>\n",
       "      <th>26</th>\n",
       "      <td>2016-03-01</td>\n",
       "      <td>0.275610</td>\n",
       "      <td>0.311913</td>\n",
       "      <td>0.014854</td>\n",
       "      <td>0.206805</td>\n",
       "      <td>0.090255</td>\n",
       "    </tr>\n",
       "    <tr>\n",
       "      <th>27</th>\n",
       "      <td>2016-04-01</td>\n",
       "      <td>0.265092</td>\n",
       "      <td>0.269574</td>\n",
       "      <td>0.001091</td>\n",
       "      <td>0.202031</td>\n",
       "      <td>0.066452</td>\n",
       "    </tr>\n",
       "    <tr>\n",
       "      <th>28</th>\n",
       "      <td>2016-05-01</td>\n",
       "      <td>0.220779</td>\n",
       "      <td>0.244275</td>\n",
       "      <td>0.020519</td>\n",
       "      <td>0.214931</td>\n",
       "      <td>0.008825</td>\n",
       "    </tr>\n",
       "    <tr>\n",
       "      <th>29</th>\n",
       "      <td>2016-06-01</td>\n",
       "      <td>0.218045</td>\n",
       "      <td>0.260395</td>\n",
       "      <td>0.048210</td>\n",
       "      <td>0.228261</td>\n",
       "      <td>-0.016076</td>\n",
       "    </tr>\n",
       "    <tr>\n",
       "      <th>30</th>\n",
       "      <td>2016-07-01</td>\n",
       "      <td>0.333333</td>\n",
       "      <td>0.270099</td>\n",
       "      <td>0.067577</td>\n",
       "      <td>0.241160</td>\n",
       "      <td>-0.038638</td>\n",
       "    </tr>\n",
       "    <tr>\n",
       "      <th>31</th>\n",
       "      <td>2016-08-01</td>\n",
       "      <td>0.000000</td>\n",
       "      <td>0.230903</td>\n",
       "      <td>0.055216</td>\n",
       "      <td>0.254490</td>\n",
       "      <td>-0.078803</td>\n",
       "    </tr>\n",
       "    <tr>\n",
       "      <th>32</th>\n",
       "      <td>2016-09-01</td>\n",
       "      <td>0.471698</td>\n",
       "      <td>0.362951</td>\n",
       "      <td>0.017956</td>\n",
       "      <td>0.267820</td>\n",
       "      <td>0.077175</td>\n",
       "    </tr>\n",
       "    <tr>\n",
       "      <th>33</th>\n",
       "      <td>2016-10-01</td>\n",
       "      <td>0.303030</td>\n",
       "      <td>0.251350</td>\n",
       "      <td>0.000000</td>\n",
       "      <td>0.280720</td>\n",
       "      <td>-0.029370</td>\n",
       "    </tr>\n",
       "    <tr>\n",
       "      <th>34</th>\n",
       "      <td>2016-11-01</td>\n",
       "      <td>0.126761</td>\n",
       "      <td>0.238388</td>\n",
       "      <td>0.008907</td>\n",
       "      <td>0.294050</td>\n",
       "      <td>-0.064569</td>\n",
       "    </tr>\n",
       "    <tr>\n",
       "      <th>35</th>\n",
       "      <td>2016-12-01</td>\n",
       "      <td>0.423810</td>\n",
       "      <td>0.323372</td>\n",
       "      <td>0.027395</td>\n",
       "      <td>0.306949</td>\n",
       "      <td>-0.010972</td>\n",
       "    </tr>\n",
       "    <tr>\n",
       "      <th>36</th>\n",
       "      <td>2017-01-01</td>\n",
       "      <td>0.217666</td>\n",
       "      <td>0.256162</td>\n",
       "      <td>0.007807</td>\n",
       "      <td>0.320279</td>\n",
       "      <td>-0.071924</td>\n",
       "    </tr>\n",
       "  </tbody>\n",
       "</table>\n",
       "</div>"
      ],
      "text/plain": [
       "           ds         y     yhat1  lagged_regressor_AgriSpot1     trend  \\\n",
       "0  2014-01-01  0.000000       NaN                         NaN       NaN   \n",
       "1  2014-02-01  0.000000  0.018478                    0.114907 -0.149625   \n",
       "2  2014-03-01  0.000000  0.054842                    0.118343 -0.141494   \n",
       "3  2014-04-01  0.125654  0.123890                    0.174926 -0.131159   \n",
       "4  2014-05-01  0.156134  0.089651                    0.211765 -0.118559   \n",
       "5  2014-06-01  0.106145  0.111568                    0.219712 -0.105539   \n",
       "6  2014-07-01  0.000000  0.006504                    0.157037 -0.099290   \n",
       "7  2014-08-01  0.000000 -0.043381                    0.117838 -0.095393   \n",
       "8  2014-09-01  0.000000  0.053840                    0.080332 -0.088287   \n",
       "9  2014-10-01  0.000000  0.014209                    0.086198 -0.059664   \n",
       "10 2014-11-01  0.000000 -0.072933                    0.037457 -0.030088   \n",
       "11 2014-12-01  0.076233  0.104861                    0.087721  0.013404   \n",
       "12 2015-01-01  0.000000  0.088104                    0.100811  0.073378   \n",
       "13 2015-02-01  0.236422  0.279302                    0.087388  0.133352   \n",
       "14 2015-03-01  0.400552  0.306536                    0.045749  0.188878   \n",
       "15 2015-04-01  0.398268  0.389670                    0.052180  0.250504   \n",
       "16 2015-05-01  0.321519  0.343994                    0.051861  0.301829   \n",
       "17 2015-06-01  0.428571  0.360007                    0.030634  0.325253   \n",
       "18 2015-07-01  0.240132  0.316063                    0.025653  0.347921   \n",
       "19 2015-08-01  0.522388  0.376881                    0.079647  0.356583   \n",
       "20 2015-09-01  0.349515  0.437625                    0.027583  0.355967   \n",
       "21 2015-10-01  0.312500  0.367439                    0.015765  0.355401   \n",
       "22 2015-11-01  0.395939  0.299778                    0.030326  0.357578   \n",
       "23 2015-12-01  0.312693  0.409774                    0.039047  0.359685   \n",
       "24 2016-01-01  0.356707  0.263212                    0.022231  0.334187   \n",
       "25 2016-02-01  0.392765  0.346752                    0.014526  0.268373   \n",
       "26 2016-03-01  0.275610  0.311913                    0.014854  0.206805   \n",
       "27 2016-04-01  0.265092  0.269574                    0.001091  0.202031   \n",
       "28 2016-05-01  0.220779  0.244275                    0.020519  0.214931   \n",
       "29 2016-06-01  0.218045  0.260395                    0.048210  0.228261   \n",
       "30 2016-07-01  0.333333  0.270099                    0.067577  0.241160   \n",
       "31 2016-08-01  0.000000  0.230903                    0.055216  0.254490   \n",
       "32 2016-09-01  0.471698  0.362951                    0.017956  0.267820   \n",
       "33 2016-10-01  0.303030  0.251350                    0.000000  0.280720   \n",
       "34 2016-11-01  0.126761  0.238388                    0.008907  0.294050   \n",
       "35 2016-12-01  0.423810  0.323372                    0.027395  0.306949   \n",
       "36 2017-01-01  0.217666  0.256162                    0.007807  0.320279   \n",
       "\n",
       "    season_yearly  \n",
       "0             NaN  \n",
       "1        0.053195  \n",
       "2        0.077992  \n",
       "3        0.080122  \n",
       "4       -0.003555  \n",
       "5       -0.002604  \n",
       "6       -0.051242  \n",
       "7       -0.065827  \n",
       "8        0.061795  \n",
       "9       -0.012324  \n",
       "10      -0.080303  \n",
       "11       0.003735  \n",
       "12      -0.086085  \n",
       "13       0.058562  \n",
       "14       0.071909  \n",
       "15       0.086986  \n",
       "16      -0.009696  \n",
       "17       0.004120  \n",
       "18      -0.057511  \n",
       "19      -0.059349  \n",
       "20       0.054074  \n",
       "21      -0.003727  \n",
       "22      -0.088126  \n",
       "23       0.011042  \n",
       "24      -0.093206  \n",
       "25       0.063854  \n",
       "26       0.090255  \n",
       "27       0.066452  \n",
       "28       0.008825  \n",
       "29      -0.016076  \n",
       "30      -0.038638  \n",
       "31      -0.078803  \n",
       "32       0.077175  \n",
       "33      -0.029370  \n",
       "34      -0.064569  \n",
       "35      -0.010972  \n",
       "36      -0.071924  "
      ]
     },
     "execution_count": 126,
     "metadata": {},
     "output_type": "execute_result"
    }
   ],
   "source": [
    "forecast"
   ]
  }
 ],
 "metadata": {
  "kernelspec": {
   "display_name": "python_da_tasks",
   "language": "python",
   "name": "python3"
  },
  "language_info": {
   "codemirror_mode": {
    "name": "ipython",
    "version": 3
   },
   "file_extension": ".py",
   "mimetype": "text/x-python",
   "name": "python",
   "nbconvert_exporter": "python",
   "pygments_lexer": "ipython3",
   "version": "3.11.5"
  }
 },
 "nbformat": 4,
 "nbformat_minor": 2
}
