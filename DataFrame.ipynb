{
 "cells": [
  {
   "cell_type": "markdown",
   "metadata": {},
   "source": [
    "## Check Working Directory"
   ]
  },
  {
   "cell_type": "code",
   "execution_count": 1,
   "metadata": {},
   "outputs": [
    {
     "name": "stdout",
     "output_type": "stream",
     "text": [
      "Aktuelles Arbeitsverzeichnis: /Users/henrikfliegel/Desktop/Uni/SoSe24/MlClaas/ML-with-CLAAS\n"
     ]
    }
   ],
   "source": [
    "import os\n",
    "\n",
    "# Display current workspace\n",
    "current_working_directory = os.getcwd()\n",
    "print(\"Aktuelles Arbeitsverzeichnis:\", current_working_directory)"
   ]
  },
  {
   "cell_type": "markdown",
   "metadata": {},
   "source": [
    "## Install Dependencies"
   ]
  },
  {
   "cell_type": "code",
   "execution_count": null,
   "metadata": {},
   "outputs": [],
   "source": [
    "pip install pandas"
   ]
  },
  {
   "cell_type": "markdown",
   "metadata": {},
   "source": [
    "## Load Data"
   ]
  },
  {
   "cell_type": "code",
   "execution_count": 4,
   "metadata": {},
   "outputs": [
    {
     "name": "stdout",
     "output_type": "stream",
     "text": [
      "['Fact_GJ2017', 'Fact_GJ2018', 'Fact_GJ2019', 'Fact_GJ2020', 'Fact_GJ2021', 'Fact_GJ2022']\n"
     ]
    }
   ],
   "source": [
    "import pandas as pd\n",
    "\n",
    "# Laden der Excel-Datei\n",
    "excel_file = pd.ExcelFile('CLAAS_data/Fact_GJ2017_GJ2022.XLSX')\n",
    "\n",
    "# Excel-Datei enthält mehrere Tabellenblätter\n",
    "sheet_names = excel_file.sheet_names  # Liste aller Tabellenblattnamen\n",
    "\n",
    "print(sheet_names)\n",
    "\n",
    "# Laden jedes Tabellenblatts in ein eigenes DataFrame\n",
    "dataframes = {sheet_name: excel_file.parse(sheet_name) for sheet_name in sheet_names}"
   ]
  },
  {
   "cell_type": "code",
   "execution_count": 6,
   "metadata": {},
   "outputs": [
    {
     "name": "stdout",
     "output_type": "stream",
     "text": [
      "   Claas-Planungsland Vertriebsregion Teil 2 Vertriebsregion Teil 4  Material  \\\n",
      "24                 ZA            6 Africa&ME         3 South AF Imp  20002040   \n",
      "25                CPL            1 Middle EU                  3 CPL  20002040   \n",
      "26                 RO            1 Middle EU              4 CRC Rom  20002040   \n",
      "27                 FI            1 Middle EU              5 NEU Imp  20002040   \n",
      "28                 AT            1 Middle EU              6 CRC Aus  20002040   \n",
      "\n",
      "    CLAAS Untertyp SOP        UTyp-Bezeichnung      Monat  PG Fakt Ist  \\\n",
      "24                 110   C04/110 TUCANO 430 T3 2017-01-01            1   \n",
      "25                 120  C04/120 TUCANO 420 T4f 2017-02-01            1   \n",
      "26                 120  C04/120 TUCANO 420 T4f 2017-02-01            1   \n",
      "27                 120  C04/120 TUCANO 420 T4f 2017-01-01            1   \n",
      "28                 120  C04/120 TUCANO 420 T4f 2017-04-01            1   \n",
      "\n",
      "   Maschinentyp  \n",
      "24          L53  \n",
      "25          L53  \n",
      "26          L53  \n",
      "27          L53  \n",
      "28          L53  \n",
      "Anzahl der Zeilen im DataFrame: 5430\n"
     ]
    }
   ],
   "source": [
    "# Erstellen einer Liste, um alle DataFrames zu sammeln\n",
    "all_dataframes = []\n",
    "\n",
    "# Schleife durch alle Tabellenblätter in der Excel-Datei\n",
    "for sheet_name in excel_file.sheet_names:\n",
    "    # Laden jedes Tabellenblatts als DataFrame\n",
    "    df = excel_file.parse(sheet_name)\n",
    "    # Hinzufügen des DataFrame zur Liste\n",
    "    all_dataframes.append(df)\n",
    "\n",
    "# Kombinieren aller DataFrames in der Liste zu einem einzigen DataFrame\n",
    "combined_df = pd.concat(all_dataframes, ignore_index=True)\n",
    "\n",
    "combined_df['Monat'] = combined_df['Monat'].apply(convert_int_to_datetime)\n",
    "\n",
    "combined_df = extract_maschinentyp(combined_df, 'UTyp-Bezeichnung')\n",
    "\n",
    "combined_df = replace_machine_types(combined_df, mapping_dict)\n",
    "\n",
    "combined_df = combined_df[combined_df['Maschinentyp'].isin(allowed_types)]\n",
    "\n",
    "\n",
    "\n",
    "# Anzeigen der ersten Zeilen des kombinierten DataFrame\n",
    "print(combined_df.head())\n",
    "\n",
    "num_rows = len(combined_df)\n",
    "\n",
    "print(\"Anzahl der Zeilen im DataFrame:\", num_rows)\n"
   ]
  },
  {
   "cell_type": "code",
   "execution_count": 7,
   "metadata": {},
   "outputs": [
    {
     "name": "stdout",
     "output_type": "stream",
     "text": [
      "           Maschinentyp  PG Fakt Ist  Year  Month\n",
      "Monat                                            \n",
      "2016-11-01          C83            6  2016     11\n",
      "2016-12-01          C83            1  2016     12\n",
      "2017-01-01          C83            6  2017      1\n",
      "2017-02-01          C83            5  2017      2\n",
      "2017-03-01          C83            7  2017      3\n",
      "...                 ...          ...   ...    ...\n",
      "2022-05-01          L55           20  2022      5\n",
      "2022-06-01          L55           34  2022      6\n",
      "2022-07-01          L55           54  2022      7\n",
      "2022-08-01          L55           36  2022      8\n",
      "2022-09-01          L55           73  2022      9\n",
      "\n",
      "[455 rows x 4 columns]\n"
     ]
    }
   ],
   "source": [
    "grouped_df = combined_df.groupby(['Maschinentyp', 'Monat'])\n",
    "\n",
    "# Summiere die 'PG Fakt Ist' Spalte\n",
    "mgdf = grouped_df['PG Fakt Ist'].sum().reset_index()  # Verwende reset_index, um den Index zurückzusetzen\n",
    "\n",
    "mgdf.index = mgdf[\"Monat\"]\n",
    "\n",
    "mgdf['Year'] = mgdf.index.year  # Extrahieren des Jahres\n",
    "mgdf['Month'] = mgdf.index.month  # Extrahieren des Monats\n",
    "mgdf.drop('Monat', axis=1, inplace=True)\n",
    "\n",
    "print(mgdf)"
   ]
  },
  {
   "cell_type": "markdown",
   "metadata": {},
   "source": [
    "## Utils"
   ]
  },
  {
   "cell_type": "code",
   "execution_count": 5,
   "metadata": {},
   "outputs": [],
   "source": [
    "# Funktion zur Konvertierung eines Datums im Integer-Format\n",
    "def convert_int_to_datetime(int_date):\n",
    "    date_str = f\"{int_date:06d}\"  # Führende Nullen hinzufügen, falls nötig\n",
    "    date_str = f\"{date_str[:4]}-{date_str[4:]}-01\"\n",
    "    return pd.to_datetime(date_str, format='%Y-%m-%d', errors='coerce')\n",
    "\n",
    "def extract_maschinentyp(df, source_column):\n",
    "    # Die Annahme ist, dass der Maschinentyp das erste Wort im String ist,\n",
    "    # getrennt durch ein Leerzeichen vom Rest des Strings.\n",
    "    df['Maschinentyp'] = df[source_column].str.split('/').str[0]\n",
    "\n",
    "    return df\n",
    "\n",
    "def replace_machine_types(df, mapping):\n",
    "    df['Maschinentyp'] = df['Maschinentyp'].map(mapping).fillna(df['Maschinentyp'])\n",
    "    return df\n",
    "\n",
    "mapping = {\n",
    "    'Type old': ['L02', 'L04', 'L05', 'L06', 'L07', 'L31', 'L32', 'L33', 'L34', 'L35', \n",
    "                 'L36', 'L37', 'L39', 'C02', 'C03', 'C04', 'C05', 'C07', 'C55', 'C59', \n",
    "                 'C65', 'C66', 'C73', 'C74', 'C75', 'C76'],\n",
    "    'Type new': ['EVION', 'L53', 'L54', 'L55', 'L55', 'L54', 'EVION', 'EVION', 'L53', 'L54', \n",
    "                 'L55', 'L55', 'EVION', 'EVION', 'EVION', 'L53', 'L54', 'L55', 'C85', 'C86', \n",
    "                 'C85', 'C86', 'C83', 'C84', 'C85', 'C86']\n",
    "}\n",
    "df_mapping = pd.DataFrame(mapping)\n",
    "mapping_dict = dict(zip(df_mapping['Type old'], df_mapping['Type new']))\n",
    "\n",
    "allowed_types = ['L53', 'L54', 'L55', 'C83', 'C84', 'C85', 'C86']\n",
    "\n"
   ]
  }
 ],
 "metadata": {
  "kernelspec": {
   "display_name": "Python 3",
   "language": "python",
   "name": "python3"
  },
  "language_info": {
   "codemirror_mode": {
    "name": "ipython",
    "version": 3
   },
   "file_extension": ".py",
   "mimetype": "text/x-python",
   "name": "python",
   "nbconvert_exporter": "python",
   "pygments_lexer": "ipython3",
   "version": "3.11.4"
  }
 },
 "nbformat": 4,
 "nbformat_minor": 2
}
